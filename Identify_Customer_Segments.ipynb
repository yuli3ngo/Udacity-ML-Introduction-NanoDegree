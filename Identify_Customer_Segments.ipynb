{
 "cells": [
  {
   "cell_type": "markdown",
   "metadata": {},
   "source": [
    "# Project: Identify Customer Segments\n",
    "\n",
    "In this project, you will apply unsupervised learning techniques to identify segments of the population that form the core customer base for a mail-order sales company in Germany. These segments can then be used to direct marketing campaigns towards audiences that will have the highest expected rate of returns. The data that you will use has been provided by our partners at Bertelsmann Arvato Analytics, and represents a real-life data science task.\n",
    "\n",
    "This notebook will help you complete this task by providing a framework within which you will perform your analysis steps. In each step of the project, you will see some text describing the subtask that you will perform, followed by one or more code cells for you to complete your work. **Feel free to add additional code and markdown cells as you go along so that you can explore everything in precise chunks.** The code cells provided in the base template will outline only the major tasks, and will usually not be enough to cover all of the minor tasks that comprise it.\n",
    "\n",
    "It should be noted that while there will be precise guidelines on how you should handle certain tasks in the project, there will also be places where an exact specification is not provided. **There will be times in the project where you will need to make and justify your own decisions on how to treat the data.** These are places where there may not be only one way to handle the data. In real-life tasks, there may be many valid ways to approach an analysis task. One of the most important things you can do is clearly document your approach so that other scientists can understand the decisions you've made.\n",
    "\n",
    "At the end of most sections, there will be a Markdown cell labeled **Discussion**. In these cells, you will report your findings for the completed section, as well as document the decisions that you made in your approach to each subtask. **Your project will be evaluated not just on the code used to complete the tasks outlined, but also your communication about your observations and conclusions at each stage.**"
   ]
  },
  {
   "cell_type": "code",
   "execution_count": 1,
   "metadata": {},
   "outputs": [
    {
     "data": {
      "text/plain": [
       "'\\nImport note: The classroom currently uses sklearn version 0.19.\\nIf you need to use an imputer, it is available in sklearn.preprocessing.Imputer,\\ninstead of sklearn.impute as in newer versions of sklearn.\\n'"
      ]
     },
     "execution_count": 1,
     "metadata": {},
     "output_type": "execute_result"
    }
   ],
   "source": [
    "# import libraries here; add more as necessary\n",
    "import numpy as np\n",
    "import pandas as pd\n",
    "import matplotlib.pyplot as plt\n",
    "import seaborn as sns\n",
    "\n",
    "from sklearn.preprocessing import Imputer, StandardScaler\n",
    "from sklearn.decomposition import PCA\n",
    "from sklearn.cluster import KMeans\n",
    "\n",
    "# magic word for producing visualizations in notebook\n",
    "%matplotlib inline\n",
    "\n",
    "'''\n",
    "Import note: The classroom currently uses sklearn version 0.19.\n",
    "If you need to use an imputer, it is available in sklearn.preprocessing.Imputer,\n",
    "instead of sklearn.impute as in newer versions of sklearn.\n",
    "'''"
   ]
  },
  {
   "cell_type": "code",
   "execution_count": 2,
   "metadata": {},
   "outputs": [],
   "source": [
    "pd.set_option('display.max_columns', 85)\n",
    "pd.set_option('display.max_rows',200)"
   ]
  },
  {
   "cell_type": "markdown",
   "metadata": {},
   "source": [
    "### Step 0: Load the Data\n",
    "\n",
    "There are four files associated with this project (not including this one):\n",
    "\n",
    "- `Udacity_AZDIAS_Subset.csv`: Demographics data for the general population of Germany; 891221 persons (rows) x 85 features (columns).\n",
    "- `Udacity_CUSTOMERS_Subset.csv`: Demographics data for customers of a mail-order company; 191652 persons (rows) x 85 features (columns).\n",
    "- `Data_Dictionary.md`: Detailed information file about the features in the provided datasets.\n",
    "- `AZDIAS_Feature_Summary.csv`: Summary of feature attributes for demographics data; 85 features (rows) x 4 columns\n",
    "\n",
    "Each row of the demographics files represents a single person, but also includes information outside of individuals, including information about their household, building, and neighborhood. You will use this information to cluster the general population into groups with similar demographic properties. Then, you will see how the people in the customers dataset fit into those created clusters. The hope here is that certain clusters are over-represented in the customers data, as compared to the general population; those over-represented clusters will be assumed to be part of the core userbase. This information can then be used for further applications, such as targeting for a marketing campaign.\n",
    "\n",
    "To start off with, load in the demographics data for the general population into a pandas DataFrame, and do the same for the feature attributes summary. Note for all of the `.csv` data files in this project: they're semicolon (`;`) delimited, so you'll need an additional argument in your [`read_csv()`](https://pandas.pydata.org/pandas-docs/stable/generated/pandas.read_csv.html) call to read in the data properly. Also, considering the size of the main dataset, it may take some time for it to load completely.\n",
    "\n",
    "Once the dataset is loaded, it's recommended that you take a little bit of time just browsing the general structure of the dataset and feature summary file. You'll be getting deep into the innards of the cleaning in the first major step of the project, so gaining some general familiarity can help you get your bearings."
   ]
  },
  {
   "cell_type": "code",
   "execution_count": 3,
   "metadata": {},
   "outputs": [],
   "source": [
    "# Load in the general demographics data.\n",
    "azdias = pd.read_csv('Udacity_AZDIAS_Subset.csv',sep=';')\n",
    "\n",
    "# Load in the feature summary file.\n",
    "feat_info = pd.read_csv('AZDIAS_Feature_Summary.csv',sep=';')"
   ]
  },
  {
   "cell_type": "code",
   "execution_count": 4,
   "metadata": {},
   "outputs": [
    {
     "data": {
      "text/html": [
       "<div>\n",
       "<style scoped>\n",
       "    .dataframe tbody tr th:only-of-type {\n",
       "        vertical-align: middle;\n",
       "    }\n",
       "\n",
       "    .dataframe tbody tr th {\n",
       "        vertical-align: top;\n",
       "    }\n",
       "\n",
       "    .dataframe thead th {\n",
       "        text-align: right;\n",
       "    }\n",
       "</style>\n",
       "<table border=\"1\" class=\"dataframe\">\n",
       "  <thead>\n",
       "    <tr style=\"text-align: right;\">\n",
       "      <th></th>\n",
       "      <th>AGER_TYP</th>\n",
       "      <th>ALTERSKATEGORIE_GROB</th>\n",
       "      <th>ANREDE_KZ</th>\n",
       "      <th>CJT_GESAMTTYP</th>\n",
       "      <th>FINANZ_MINIMALIST</th>\n",
       "      <th>FINANZ_SPARER</th>\n",
       "      <th>FINANZ_VORSORGER</th>\n",
       "      <th>FINANZ_ANLEGER</th>\n",
       "      <th>FINANZ_UNAUFFAELLIGER</th>\n",
       "      <th>FINANZ_HAUSBAUER</th>\n",
       "      <th>FINANZTYP</th>\n",
       "      <th>GEBURTSJAHR</th>\n",
       "      <th>GFK_URLAUBERTYP</th>\n",
       "      <th>GREEN_AVANTGARDE</th>\n",
       "      <th>HEALTH_TYP</th>\n",
       "      <th>LP_LEBENSPHASE_FEIN</th>\n",
       "      <th>LP_LEBENSPHASE_GROB</th>\n",
       "      <th>LP_FAMILIE_FEIN</th>\n",
       "      <th>LP_FAMILIE_GROB</th>\n",
       "      <th>LP_STATUS_FEIN</th>\n",
       "      <th>LP_STATUS_GROB</th>\n",
       "      <th>NATIONALITAET_KZ</th>\n",
       "      <th>PRAEGENDE_JUGENDJAHRE</th>\n",
       "      <th>RETOURTYP_BK_S</th>\n",
       "      <th>SEMIO_SOZ</th>\n",
       "      <th>SEMIO_FAM</th>\n",
       "      <th>SEMIO_REL</th>\n",
       "      <th>SEMIO_MAT</th>\n",
       "      <th>SEMIO_VERT</th>\n",
       "      <th>SEMIO_LUST</th>\n",
       "      <th>SEMIO_ERL</th>\n",
       "      <th>SEMIO_KULT</th>\n",
       "      <th>SEMIO_RAT</th>\n",
       "      <th>SEMIO_KRIT</th>\n",
       "      <th>SEMIO_DOM</th>\n",
       "      <th>SEMIO_KAEM</th>\n",
       "      <th>SEMIO_PFLICHT</th>\n",
       "      <th>SEMIO_TRADV</th>\n",
       "      <th>SHOPPER_TYP</th>\n",
       "      <th>SOHO_KZ</th>\n",
       "      <th>TITEL_KZ</th>\n",
       "      <th>VERS_TYP</th>\n",
       "      <th>ZABEOTYP</th>\n",
       "      <th>ALTER_HH</th>\n",
       "      <th>ANZ_PERSONEN</th>\n",
       "      <th>ANZ_TITEL</th>\n",
       "      <th>HH_EINKOMMEN_SCORE</th>\n",
       "      <th>KK_KUNDENTYP</th>\n",
       "      <th>W_KEIT_KIND_HH</th>\n",
       "      <th>WOHNDAUER_2008</th>\n",
       "      <th>ANZ_HAUSHALTE_AKTIV</th>\n",
       "      <th>ANZ_HH_TITEL</th>\n",
       "      <th>GEBAEUDETYP</th>\n",
       "      <th>KONSUMNAEHE</th>\n",
       "      <th>MIN_GEBAEUDEJAHR</th>\n",
       "      <th>OST_WEST_KZ</th>\n",
       "      <th>WOHNLAGE</th>\n",
       "      <th>CAMEO_DEUG_2015</th>\n",
       "      <th>CAMEO_DEU_2015</th>\n",
       "      <th>CAMEO_INTL_2015</th>\n",
       "      <th>KBA05_ANTG1</th>\n",
       "      <th>KBA05_ANTG2</th>\n",
       "      <th>KBA05_ANTG3</th>\n",
       "      <th>KBA05_ANTG4</th>\n",
       "      <th>KBA05_BAUMAX</th>\n",
       "      <th>KBA05_GBZ</th>\n",
       "      <th>BALLRAUM</th>\n",
       "      <th>EWDICHTE</th>\n",
       "      <th>INNENSTADT</th>\n",
       "      <th>GEBAEUDETYP_RASTER</th>\n",
       "      <th>KKK</th>\n",
       "      <th>MOBI_REGIO</th>\n",
       "      <th>ONLINE_AFFINITAET</th>\n",
       "      <th>REGIOTYP</th>\n",
       "      <th>KBA13_ANZAHL_PKW</th>\n",
       "      <th>PLZ8_ANTG1</th>\n",
       "      <th>PLZ8_ANTG2</th>\n",
       "      <th>PLZ8_ANTG3</th>\n",
       "      <th>PLZ8_ANTG4</th>\n",
       "      <th>PLZ8_BAUMAX</th>\n",
       "      <th>PLZ8_HHZ</th>\n",
       "      <th>PLZ8_GBZ</th>\n",
       "      <th>ARBEIT</th>\n",
       "      <th>ORTSGR_KLS9</th>\n",
       "      <th>RELAT_AB</th>\n",
       "    </tr>\n",
       "  </thead>\n",
       "  <tbody>\n",
       "    <tr>\n",
       "      <th>0</th>\n",
       "      <td>-1</td>\n",
       "      <td>2</td>\n",
       "      <td>1</td>\n",
       "      <td>2.0</td>\n",
       "      <td>3</td>\n",
       "      <td>4</td>\n",
       "      <td>3</td>\n",
       "      <td>5</td>\n",
       "      <td>5</td>\n",
       "      <td>3</td>\n",
       "      <td>4</td>\n",
       "      <td>0</td>\n",
       "      <td>10.0</td>\n",
       "      <td>0</td>\n",
       "      <td>-1</td>\n",
       "      <td>15.0</td>\n",
       "      <td>4.0</td>\n",
       "      <td>2.0</td>\n",
       "      <td>2.0</td>\n",
       "      <td>1.0</td>\n",
       "      <td>1.0</td>\n",
       "      <td>0</td>\n",
       "      <td>0</td>\n",
       "      <td>5.0</td>\n",
       "      <td>2</td>\n",
       "      <td>6</td>\n",
       "      <td>7</td>\n",
       "      <td>5</td>\n",
       "      <td>1</td>\n",
       "      <td>5</td>\n",
       "      <td>3</td>\n",
       "      <td>3</td>\n",
       "      <td>4</td>\n",
       "      <td>7</td>\n",
       "      <td>6</td>\n",
       "      <td>6</td>\n",
       "      <td>5</td>\n",
       "      <td>3</td>\n",
       "      <td>-1</td>\n",
       "      <td>NaN</td>\n",
       "      <td>NaN</td>\n",
       "      <td>-1</td>\n",
       "      <td>3</td>\n",
       "      <td>NaN</td>\n",
       "      <td>NaN</td>\n",
       "      <td>NaN</td>\n",
       "      <td>2.0</td>\n",
       "      <td>NaN</td>\n",
       "      <td>NaN</td>\n",
       "      <td>NaN</td>\n",
       "      <td>NaN</td>\n",
       "      <td>NaN</td>\n",
       "      <td>NaN</td>\n",
       "      <td>NaN</td>\n",
       "      <td>NaN</td>\n",
       "      <td>NaN</td>\n",
       "      <td>NaN</td>\n",
       "      <td>NaN</td>\n",
       "      <td>NaN</td>\n",
       "      <td>NaN</td>\n",
       "      <td>NaN</td>\n",
       "      <td>NaN</td>\n",
       "      <td>NaN</td>\n",
       "      <td>NaN</td>\n",
       "      <td>NaN</td>\n",
       "      <td>NaN</td>\n",
       "      <td>NaN</td>\n",
       "      <td>NaN</td>\n",
       "      <td>NaN</td>\n",
       "      <td>NaN</td>\n",
       "      <td>NaN</td>\n",
       "      <td>NaN</td>\n",
       "      <td>1.0</td>\n",
       "      <td>NaN</td>\n",
       "      <td>NaN</td>\n",
       "      <td>NaN</td>\n",
       "      <td>NaN</td>\n",
       "      <td>NaN</td>\n",
       "      <td>NaN</td>\n",
       "      <td>NaN</td>\n",
       "      <td>NaN</td>\n",
       "      <td>NaN</td>\n",
       "      <td>NaN</td>\n",
       "      <td>NaN</td>\n",
       "      <td>NaN</td>\n",
       "    </tr>\n",
       "    <tr>\n",
       "      <th>1</th>\n",
       "      <td>-1</td>\n",
       "      <td>1</td>\n",
       "      <td>2</td>\n",
       "      <td>5.0</td>\n",
       "      <td>1</td>\n",
       "      <td>5</td>\n",
       "      <td>2</td>\n",
       "      <td>5</td>\n",
       "      <td>4</td>\n",
       "      <td>5</td>\n",
       "      <td>1</td>\n",
       "      <td>1996</td>\n",
       "      <td>10.0</td>\n",
       "      <td>0</td>\n",
       "      <td>3</td>\n",
       "      <td>21.0</td>\n",
       "      <td>6.0</td>\n",
       "      <td>5.0</td>\n",
       "      <td>3.0</td>\n",
       "      <td>2.0</td>\n",
       "      <td>1.0</td>\n",
       "      <td>1</td>\n",
       "      <td>14</td>\n",
       "      <td>1.0</td>\n",
       "      <td>5</td>\n",
       "      <td>4</td>\n",
       "      <td>4</td>\n",
       "      <td>3</td>\n",
       "      <td>1</td>\n",
       "      <td>2</td>\n",
       "      <td>2</td>\n",
       "      <td>3</td>\n",
       "      <td>6</td>\n",
       "      <td>4</td>\n",
       "      <td>7</td>\n",
       "      <td>4</td>\n",
       "      <td>7</td>\n",
       "      <td>6</td>\n",
       "      <td>3</td>\n",
       "      <td>1.0</td>\n",
       "      <td>0.0</td>\n",
       "      <td>2</td>\n",
       "      <td>5</td>\n",
       "      <td>0.0</td>\n",
       "      <td>2.0</td>\n",
       "      <td>0.0</td>\n",
       "      <td>6.0</td>\n",
       "      <td>NaN</td>\n",
       "      <td>3.0</td>\n",
       "      <td>9.0</td>\n",
       "      <td>11.0</td>\n",
       "      <td>0.0</td>\n",
       "      <td>8.0</td>\n",
       "      <td>1.0</td>\n",
       "      <td>1992.0</td>\n",
       "      <td>W</td>\n",
       "      <td>4.0</td>\n",
       "      <td>8</td>\n",
       "      <td>8A</td>\n",
       "      <td>51</td>\n",
       "      <td>0.0</td>\n",
       "      <td>0.0</td>\n",
       "      <td>0.0</td>\n",
       "      <td>2.0</td>\n",
       "      <td>5.0</td>\n",
       "      <td>1.0</td>\n",
       "      <td>6.0</td>\n",
       "      <td>3.0</td>\n",
       "      <td>8.0</td>\n",
       "      <td>3.0</td>\n",
       "      <td>2.0</td>\n",
       "      <td>1.0</td>\n",
       "      <td>3.0</td>\n",
       "      <td>3.0</td>\n",
       "      <td>963.0</td>\n",
       "      <td>2.0</td>\n",
       "      <td>3.0</td>\n",
       "      <td>2.0</td>\n",
       "      <td>1.0</td>\n",
       "      <td>1.0</td>\n",
       "      <td>5.0</td>\n",
       "      <td>4.0</td>\n",
       "      <td>3.0</td>\n",
       "      <td>5.0</td>\n",
       "      <td>4.0</td>\n",
       "    </tr>\n",
       "    <tr>\n",
       "      <th>2</th>\n",
       "      <td>-1</td>\n",
       "      <td>3</td>\n",
       "      <td>2</td>\n",
       "      <td>3.0</td>\n",
       "      <td>1</td>\n",
       "      <td>4</td>\n",
       "      <td>1</td>\n",
       "      <td>2</td>\n",
       "      <td>3</td>\n",
       "      <td>5</td>\n",
       "      <td>1</td>\n",
       "      <td>1979</td>\n",
       "      <td>10.0</td>\n",
       "      <td>1</td>\n",
       "      <td>3</td>\n",
       "      <td>3.0</td>\n",
       "      <td>1.0</td>\n",
       "      <td>1.0</td>\n",
       "      <td>1.0</td>\n",
       "      <td>3.0</td>\n",
       "      <td>2.0</td>\n",
       "      <td>1</td>\n",
       "      <td>15</td>\n",
       "      <td>3.0</td>\n",
       "      <td>4</td>\n",
       "      <td>1</td>\n",
       "      <td>3</td>\n",
       "      <td>3</td>\n",
       "      <td>4</td>\n",
       "      <td>4</td>\n",
       "      <td>6</td>\n",
       "      <td>3</td>\n",
       "      <td>4</td>\n",
       "      <td>7</td>\n",
       "      <td>7</td>\n",
       "      <td>7</td>\n",
       "      <td>3</td>\n",
       "      <td>3</td>\n",
       "      <td>2</td>\n",
       "      <td>0.0</td>\n",
       "      <td>0.0</td>\n",
       "      <td>1</td>\n",
       "      <td>5</td>\n",
       "      <td>17.0</td>\n",
       "      <td>1.0</td>\n",
       "      <td>0.0</td>\n",
       "      <td>4.0</td>\n",
       "      <td>NaN</td>\n",
       "      <td>3.0</td>\n",
       "      <td>9.0</td>\n",
       "      <td>10.0</td>\n",
       "      <td>0.0</td>\n",
       "      <td>1.0</td>\n",
       "      <td>5.0</td>\n",
       "      <td>1992.0</td>\n",
       "      <td>W</td>\n",
       "      <td>2.0</td>\n",
       "      <td>4</td>\n",
       "      <td>4C</td>\n",
       "      <td>24</td>\n",
       "      <td>1.0</td>\n",
       "      <td>3.0</td>\n",
       "      <td>1.0</td>\n",
       "      <td>0.0</td>\n",
       "      <td>0.0</td>\n",
       "      <td>3.0</td>\n",
       "      <td>2.0</td>\n",
       "      <td>4.0</td>\n",
       "      <td>4.0</td>\n",
       "      <td>4.0</td>\n",
       "      <td>2.0</td>\n",
       "      <td>3.0</td>\n",
       "      <td>2.0</td>\n",
       "      <td>2.0</td>\n",
       "      <td>712.0</td>\n",
       "      <td>3.0</td>\n",
       "      <td>3.0</td>\n",
       "      <td>1.0</td>\n",
       "      <td>0.0</td>\n",
       "      <td>1.0</td>\n",
       "      <td>4.0</td>\n",
       "      <td>4.0</td>\n",
       "      <td>3.0</td>\n",
       "      <td>5.0</td>\n",
       "      <td>2.0</td>\n",
       "    </tr>\n",
       "    <tr>\n",
       "      <th>3</th>\n",
       "      <td>2</td>\n",
       "      <td>4</td>\n",
       "      <td>2</td>\n",
       "      <td>2.0</td>\n",
       "      <td>4</td>\n",
       "      <td>2</td>\n",
       "      <td>5</td>\n",
       "      <td>2</td>\n",
       "      <td>1</td>\n",
       "      <td>2</td>\n",
       "      <td>6</td>\n",
       "      <td>1957</td>\n",
       "      <td>1.0</td>\n",
       "      <td>0</td>\n",
       "      <td>2</td>\n",
       "      <td>0.0</td>\n",
       "      <td>0.0</td>\n",
       "      <td>0.0</td>\n",
       "      <td>0.0</td>\n",
       "      <td>9.0</td>\n",
       "      <td>4.0</td>\n",
       "      <td>1</td>\n",
       "      <td>8</td>\n",
       "      <td>2.0</td>\n",
       "      <td>5</td>\n",
       "      <td>1</td>\n",
       "      <td>2</td>\n",
       "      <td>1</td>\n",
       "      <td>4</td>\n",
       "      <td>4</td>\n",
       "      <td>7</td>\n",
       "      <td>4</td>\n",
       "      <td>3</td>\n",
       "      <td>4</td>\n",
       "      <td>4</td>\n",
       "      <td>5</td>\n",
       "      <td>4</td>\n",
       "      <td>4</td>\n",
       "      <td>1</td>\n",
       "      <td>0.0</td>\n",
       "      <td>0.0</td>\n",
       "      <td>1</td>\n",
       "      <td>3</td>\n",
       "      <td>13.0</td>\n",
       "      <td>0.0</td>\n",
       "      <td>0.0</td>\n",
       "      <td>1.0</td>\n",
       "      <td>NaN</td>\n",
       "      <td>NaN</td>\n",
       "      <td>9.0</td>\n",
       "      <td>1.0</td>\n",
       "      <td>0.0</td>\n",
       "      <td>1.0</td>\n",
       "      <td>4.0</td>\n",
       "      <td>1997.0</td>\n",
       "      <td>W</td>\n",
       "      <td>7.0</td>\n",
       "      <td>2</td>\n",
       "      <td>2A</td>\n",
       "      <td>12</td>\n",
       "      <td>4.0</td>\n",
       "      <td>1.0</td>\n",
       "      <td>0.0</td>\n",
       "      <td>0.0</td>\n",
       "      <td>1.0</td>\n",
       "      <td>4.0</td>\n",
       "      <td>4.0</td>\n",
       "      <td>2.0</td>\n",
       "      <td>6.0</td>\n",
       "      <td>4.0</td>\n",
       "      <td>0.0</td>\n",
       "      <td>4.0</td>\n",
       "      <td>1.0</td>\n",
       "      <td>0.0</td>\n",
       "      <td>596.0</td>\n",
       "      <td>2.0</td>\n",
       "      <td>2.0</td>\n",
       "      <td>2.0</td>\n",
       "      <td>0.0</td>\n",
       "      <td>1.0</td>\n",
       "      <td>3.0</td>\n",
       "      <td>4.0</td>\n",
       "      <td>2.0</td>\n",
       "      <td>3.0</td>\n",
       "      <td>3.0</td>\n",
       "    </tr>\n",
       "    <tr>\n",
       "      <th>4</th>\n",
       "      <td>-1</td>\n",
       "      <td>3</td>\n",
       "      <td>1</td>\n",
       "      <td>5.0</td>\n",
       "      <td>4</td>\n",
       "      <td>3</td>\n",
       "      <td>4</td>\n",
       "      <td>1</td>\n",
       "      <td>3</td>\n",
       "      <td>2</td>\n",
       "      <td>5</td>\n",
       "      <td>1963</td>\n",
       "      <td>5.0</td>\n",
       "      <td>0</td>\n",
       "      <td>3</td>\n",
       "      <td>32.0</td>\n",
       "      <td>10.0</td>\n",
       "      <td>10.0</td>\n",
       "      <td>5.0</td>\n",
       "      <td>3.0</td>\n",
       "      <td>2.0</td>\n",
       "      <td>1</td>\n",
       "      <td>8</td>\n",
       "      <td>5.0</td>\n",
       "      <td>6</td>\n",
       "      <td>4</td>\n",
       "      <td>4</td>\n",
       "      <td>2</td>\n",
       "      <td>7</td>\n",
       "      <td>4</td>\n",
       "      <td>4</td>\n",
       "      <td>6</td>\n",
       "      <td>2</td>\n",
       "      <td>3</td>\n",
       "      <td>2</td>\n",
       "      <td>2</td>\n",
       "      <td>4</td>\n",
       "      <td>2</td>\n",
       "      <td>2</td>\n",
       "      <td>0.0</td>\n",
       "      <td>0.0</td>\n",
       "      <td>2</td>\n",
       "      <td>4</td>\n",
       "      <td>20.0</td>\n",
       "      <td>4.0</td>\n",
       "      <td>0.0</td>\n",
       "      <td>5.0</td>\n",
       "      <td>1.0</td>\n",
       "      <td>2.0</td>\n",
       "      <td>9.0</td>\n",
       "      <td>3.0</td>\n",
       "      <td>0.0</td>\n",
       "      <td>1.0</td>\n",
       "      <td>4.0</td>\n",
       "      <td>1992.0</td>\n",
       "      <td>W</td>\n",
       "      <td>3.0</td>\n",
       "      <td>6</td>\n",
       "      <td>6B</td>\n",
       "      <td>43</td>\n",
       "      <td>1.0</td>\n",
       "      <td>4.0</td>\n",
       "      <td>1.0</td>\n",
       "      <td>0.0</td>\n",
       "      <td>0.0</td>\n",
       "      <td>3.0</td>\n",
       "      <td>2.0</td>\n",
       "      <td>5.0</td>\n",
       "      <td>1.0</td>\n",
       "      <td>5.0</td>\n",
       "      <td>3.0</td>\n",
       "      <td>3.0</td>\n",
       "      <td>5.0</td>\n",
       "      <td>5.0</td>\n",
       "      <td>435.0</td>\n",
       "      <td>2.0</td>\n",
       "      <td>4.0</td>\n",
       "      <td>2.0</td>\n",
       "      <td>1.0</td>\n",
       "      <td>2.0</td>\n",
       "      <td>3.0</td>\n",
       "      <td>3.0</td>\n",
       "      <td>4.0</td>\n",
       "      <td>6.0</td>\n",
       "      <td>5.0</td>\n",
       "    </tr>\n",
       "  </tbody>\n",
       "</table>\n",
       "</div>"
      ],
      "text/plain": [
       "   AGER_TYP  ALTERSKATEGORIE_GROB  ANREDE_KZ  CJT_GESAMTTYP  \\\n",
       "0        -1                     2          1            2.0   \n",
       "1        -1                     1          2            5.0   \n",
       "2        -1                     3          2            3.0   \n",
       "3         2                     4          2            2.0   \n",
       "4        -1                     3          1            5.0   \n",
       "\n",
       "   FINANZ_MINIMALIST  FINANZ_SPARER  FINANZ_VORSORGER  FINANZ_ANLEGER  \\\n",
       "0                  3              4                 3               5   \n",
       "1                  1              5                 2               5   \n",
       "2                  1              4                 1               2   \n",
       "3                  4              2                 5               2   \n",
       "4                  4              3                 4               1   \n",
       "\n",
       "   FINANZ_UNAUFFAELLIGER  FINANZ_HAUSBAUER  FINANZTYP  GEBURTSJAHR  \\\n",
       "0                      5                 3          4            0   \n",
       "1                      4                 5          1         1996   \n",
       "2                      3                 5          1         1979   \n",
       "3                      1                 2          6         1957   \n",
       "4                      3                 2          5         1963   \n",
       "\n",
       "   GFK_URLAUBERTYP  GREEN_AVANTGARDE  HEALTH_TYP  LP_LEBENSPHASE_FEIN  \\\n",
       "0             10.0                 0          -1                 15.0   \n",
       "1             10.0                 0           3                 21.0   \n",
       "2             10.0                 1           3                  3.0   \n",
       "3              1.0                 0           2                  0.0   \n",
       "4              5.0                 0           3                 32.0   \n",
       "\n",
       "   LP_LEBENSPHASE_GROB  LP_FAMILIE_FEIN  LP_FAMILIE_GROB  LP_STATUS_FEIN  \\\n",
       "0                  4.0              2.0              2.0             1.0   \n",
       "1                  6.0              5.0              3.0             2.0   \n",
       "2                  1.0              1.0              1.0             3.0   \n",
       "3                  0.0              0.0              0.0             9.0   \n",
       "4                 10.0             10.0              5.0             3.0   \n",
       "\n",
       "   LP_STATUS_GROB  NATIONALITAET_KZ  PRAEGENDE_JUGENDJAHRE  RETOURTYP_BK_S  \\\n",
       "0             1.0                 0                      0             5.0   \n",
       "1             1.0                 1                     14             1.0   \n",
       "2             2.0                 1                     15             3.0   \n",
       "3             4.0                 1                      8             2.0   \n",
       "4             2.0                 1                      8             5.0   \n",
       "\n",
       "   SEMIO_SOZ  SEMIO_FAM  SEMIO_REL  SEMIO_MAT  SEMIO_VERT  SEMIO_LUST  \\\n",
       "0          2          6          7          5           1           5   \n",
       "1          5          4          4          3           1           2   \n",
       "2          4          1          3          3           4           4   \n",
       "3          5          1          2          1           4           4   \n",
       "4          6          4          4          2           7           4   \n",
       "\n",
       "   SEMIO_ERL  SEMIO_KULT  SEMIO_RAT  SEMIO_KRIT  SEMIO_DOM  SEMIO_KAEM  \\\n",
       "0          3           3          4           7          6           6   \n",
       "1          2           3          6           4          7           4   \n",
       "2          6           3          4           7          7           7   \n",
       "3          7           4          3           4          4           5   \n",
       "4          4           6          2           3          2           2   \n",
       "\n",
       "   SEMIO_PFLICHT  SEMIO_TRADV  SHOPPER_TYP  SOHO_KZ  TITEL_KZ  VERS_TYP  \\\n",
       "0              5            3           -1      NaN       NaN        -1   \n",
       "1              7            6            3      1.0       0.0         2   \n",
       "2              3            3            2      0.0       0.0         1   \n",
       "3              4            4            1      0.0       0.0         1   \n",
       "4              4            2            2      0.0       0.0         2   \n",
       "\n",
       "   ZABEOTYP  ALTER_HH  ANZ_PERSONEN  ANZ_TITEL  HH_EINKOMMEN_SCORE  \\\n",
       "0         3       NaN           NaN        NaN                 2.0   \n",
       "1         5       0.0           2.0        0.0                 6.0   \n",
       "2         5      17.0           1.0        0.0                 4.0   \n",
       "3         3      13.0           0.0        0.0                 1.0   \n",
       "4         4      20.0           4.0        0.0                 5.0   \n",
       "\n",
       "   KK_KUNDENTYP  W_KEIT_KIND_HH  WOHNDAUER_2008  ANZ_HAUSHALTE_AKTIV  \\\n",
       "0           NaN             NaN             NaN                  NaN   \n",
       "1           NaN             3.0             9.0                 11.0   \n",
       "2           NaN             3.0             9.0                 10.0   \n",
       "3           NaN             NaN             9.0                  1.0   \n",
       "4           1.0             2.0             9.0                  3.0   \n",
       "\n",
       "   ANZ_HH_TITEL  GEBAEUDETYP  KONSUMNAEHE  MIN_GEBAEUDEJAHR OST_WEST_KZ  \\\n",
       "0           NaN          NaN          NaN               NaN         NaN   \n",
       "1           0.0          8.0          1.0            1992.0           W   \n",
       "2           0.0          1.0          5.0            1992.0           W   \n",
       "3           0.0          1.0          4.0            1997.0           W   \n",
       "4           0.0          1.0          4.0            1992.0           W   \n",
       "\n",
       "   WOHNLAGE CAMEO_DEUG_2015 CAMEO_DEU_2015 CAMEO_INTL_2015  KBA05_ANTG1  \\\n",
       "0       NaN             NaN            NaN             NaN          NaN   \n",
       "1       4.0               8             8A              51          0.0   \n",
       "2       2.0               4             4C              24          1.0   \n",
       "3       7.0               2             2A              12          4.0   \n",
       "4       3.0               6             6B              43          1.0   \n",
       "\n",
       "   KBA05_ANTG2  KBA05_ANTG3  KBA05_ANTG4  KBA05_BAUMAX  KBA05_GBZ  BALLRAUM  \\\n",
       "0          NaN          NaN          NaN           NaN        NaN       NaN   \n",
       "1          0.0          0.0          2.0           5.0        1.0       6.0   \n",
       "2          3.0          1.0          0.0           0.0        3.0       2.0   \n",
       "3          1.0          0.0          0.0           1.0        4.0       4.0   \n",
       "4          4.0          1.0          0.0           0.0        3.0       2.0   \n",
       "\n",
       "   EWDICHTE  INNENSTADT  GEBAEUDETYP_RASTER  KKK  MOBI_REGIO  \\\n",
       "0       NaN         NaN                 NaN  NaN         NaN   \n",
       "1       3.0         8.0                 3.0  2.0         1.0   \n",
       "2       4.0         4.0                 4.0  2.0         3.0   \n",
       "3       2.0         6.0                 4.0  0.0         4.0   \n",
       "4       5.0         1.0                 5.0  3.0         3.0   \n",
       "\n",
       "   ONLINE_AFFINITAET  REGIOTYP  KBA13_ANZAHL_PKW  PLZ8_ANTG1  PLZ8_ANTG2  \\\n",
       "0                1.0       NaN               NaN         NaN         NaN   \n",
       "1                3.0       3.0             963.0         2.0         3.0   \n",
       "2                2.0       2.0             712.0         3.0         3.0   \n",
       "3                1.0       0.0             596.0         2.0         2.0   \n",
       "4                5.0       5.0             435.0         2.0         4.0   \n",
       "\n",
       "   PLZ8_ANTG3  PLZ8_ANTG4  PLZ8_BAUMAX  PLZ8_HHZ  PLZ8_GBZ  ARBEIT  \\\n",
       "0         NaN         NaN          NaN       NaN       NaN     NaN   \n",
       "1         2.0         1.0          1.0       5.0       4.0     3.0   \n",
       "2         1.0         0.0          1.0       4.0       4.0     3.0   \n",
       "3         2.0         0.0          1.0       3.0       4.0     2.0   \n",
       "4         2.0         1.0          2.0       3.0       3.0     4.0   \n",
       "\n",
       "   ORTSGR_KLS9  RELAT_AB  \n",
       "0          NaN       NaN  \n",
       "1          5.0       4.0  \n",
       "2          5.0       2.0  \n",
       "3          3.0       3.0  \n",
       "4          6.0       5.0  "
      ]
     },
     "execution_count": 4,
     "metadata": {},
     "output_type": "execute_result"
    }
   ],
   "source": [
    "# Check the structure of the data after it's loaded (e.g. print the number of\n",
    "# rows and columns, print the first few rows).\n",
    "azdias.head()"
   ]
  },
  {
   "cell_type": "code",
   "execution_count": 5,
   "metadata": {},
   "outputs": [
    {
     "data": {
      "text/plain": [
       "(891221, 85)"
      ]
     },
     "execution_count": 5,
     "metadata": {},
     "output_type": "execute_result"
    }
   ],
   "source": [
    "azdias.shape"
   ]
  },
  {
   "cell_type": "code",
   "execution_count": 6,
   "metadata": {},
   "outputs": [
    {
     "data": {
      "text/plain": [
       "array([  5.,   1.,   3.,   2.,   4.,  nan])"
      ]
     },
     "execution_count": 6,
     "metadata": {},
     "output_type": "execute_result"
    }
   ],
   "source": [
    "#azdias.describe().transpose()\n",
    "azdias['RETOURTYP_BK_S'].unique()"
   ]
  },
  {
   "cell_type": "code",
   "execution_count": 7,
   "metadata": {},
   "outputs": [
    {
     "data": {
      "text/plain": [
       "0"
      ]
     },
     "execution_count": 7,
     "metadata": {},
     "output_type": "execute_result"
    }
   ],
   "source": [
    "#feat_info.head (85)\n",
    "#feat_info['type'].unique()\n",
    "#feat_info.describe().transpose()\n",
    "#feat_info['missing_or_unknown'].unique() \n",
    "len(azdias[azdias.CJT_GESAMTTYP == 0]) "
   ]
  },
  {
   "cell_type": "markdown",
   "metadata": {},
   "source": [
    "> **Tip**: Add additional cells to keep everything in reasonably-sized chunks! Keyboard shortcut `esc --> a` (press escape to enter command mode, then press the 'A' key) adds a new cell before the active cell, and `esc --> b` adds a new cell after the active cell. If you need to convert an active cell to a markdown cell, use `esc --> m` and to convert to a code cell, use `esc --> y`. \n",
    "\n",
    "## Step 1: Preprocessing\n",
    "\n",
    "### Step 1.1: Assess Missing Data\n",
    "\n",
    "The feature summary file contains a summary of properties for each demographics data column. You will use this file to help you make cleaning decisions during this stage of the project. First of all, you should assess the demographics data in terms of missing data. Pay attention to the following points as you perform your analysis, and take notes on what you observe. Make sure that you fill in the **Discussion** cell with your findings and decisions at the end of each step that has one!\n",
    "\n",
    "#### Step 1.1.1: Convert Missing Value Codes to NaNs\n",
    "The fourth column of the feature attributes summary (loaded in above as `feat_info`) documents the codes from the data dictionary that indicate missing or unknown data. While the file encodes this as a list (e.g. `[-1,0]`), this will get read in as a string object. You'll need to do a little bit of parsing to make use of it to identify and clean the data. Convert data that matches a 'missing' or 'unknown' value code into a numpy NaN value. You might want to see how much data takes on a 'missing' or 'unknown' code, and how much data is naturally missing, as a point of interest.\n",
    "\n",
    "**As one more reminder, you are encouraged to add additional cells to break up your analysis into manageable chunks.**"
   ]
  },
  {
   "cell_type": "code",
   "execution_count": 8,
   "metadata": {},
   "outputs": [
    {
     "name": "stdout",
     "output_type": "stream",
     "text": [
      "Total count of naturally missing values: 4896838\n"
     ]
    }
   ],
   "source": [
    "# Identify missing or unknown data values and convert them to NaNs.\n",
    "print('Total count of naturally missing values: {}'.format(azdias.isnull().sum().sum()))"
   ]
  },
  {
   "cell_type": "code",
   "execution_count": 9,
   "metadata": {},
   "outputs": [],
   "source": [
    "# Identify missing or unknown data values and convert them to NaNs.\n",
    "values = ['-1','0','1','2','3','4','5','6','7','8','9']\n",
    "for column in range(azdias.shape[1]):\n",
    "    missing_unknown = feat_info.iloc[column][3] #feat_info['missing_or_unknown']\n",
    "    missing_unknown = missing_unknown.strip('[')\n",
    "    missing_unknown = missing_unknown.strip(']')\n",
    "    missing_unknown = missing_unknown.split(sep=',')\n",
    "    for i in range(len(missing_unknown)):\n",
    "        if missing_unknown[i] in values:\n",
    "                missing_unknown[i] = int(missing_unknown[i])\n",
    "    if(missing_unknown!=['']):\n",
    "        azdias = azdias.replace({feat_info.iloc[column][0]: missing_unknown}, np.nan)"
   ]
  },
  {
   "cell_type": "code",
   "execution_count": 10,
   "metadata": {},
   "outputs": [
    {
     "name": "stdout",
     "output_type": "stream",
     "text": [
      "Total count of missing values after replacing missing_unknown with NaNs:  8373929\n"
     ]
    }
   ],
   "source": [
    "print('Total count of missing values after replacing missing_unknown with NaNs:  {}'.format(azdias.isnull().sum().sum()))"
   ]
  },
  {
   "cell_type": "markdown",
   "metadata": {},
   "source": [
    "#### Step 1.1.2: Assess Missing Data in Each Column\n",
    "\n",
    "How much missing data is present in each column? There are a few columns that are outliers in terms of the proportion of values that are missing. You will want to use matplotlib's [`hist()`](https://matplotlib.org/api/_as_gen/matplotlib.pyplot.hist.html) function to visualize the distribution of missing value counts to find these columns. Identify and document these columns. While some of these columns might have justifications for keeping or re-encoding the data, for this project you should just remove them from the dataframe. (Feel free to make remarks about these outlier columns in the discussion, however!)\n",
    "\n",
    "For the remaining features, are there any patterns in which columns have, or share, missing data?"
   ]
  },
  {
   "cell_type": "code",
   "execution_count": 11,
   "metadata": {},
   "outputs": [
    {
     "name": "stdout",
     "output_type": "stream",
     "text": [
      "AGER_TYP                 685843\n",
      "ALTERSKATEGORIE_GROB       2881\n",
      "CJT_GESAMTTYP              4854\n",
      "GEBURTSJAHR              392318\n",
      "GFK_URLAUBERTYP            4854\n",
      "HEALTH_TYP               111196\n",
      "LP_LEBENSPHASE_FEIN       97632\n",
      "LP_LEBENSPHASE_GROB       94572\n",
      "LP_FAMILIE_FEIN           77792\n",
      "LP_FAMILIE_GROB           77792\n",
      "LP_STATUS_FEIN             4854\n",
      "LP_STATUS_GROB             4854\n",
      "NATIONALITAET_KZ         108315\n",
      "PRAEGENDE_JUGENDJAHRE    108164\n",
      "RETOURTYP_BK_S             4854\n",
      "SHOPPER_TYP              111196\n",
      "SOHO_KZ                   73499\n",
      "TITEL_KZ                 889061\n",
      "VERS_TYP                 111196\n",
      "ALTER_HH                 310267\n",
      "ANZ_PERSONEN              73499\n",
      "ANZ_TITEL                 73499\n",
      "HH_EINKOMMEN_SCORE        18348\n",
      "KK_KUNDENTYP             584612\n",
      "W_KEIT_KIND_HH           147988\n",
      "WOHNDAUER_2008            73499\n",
      "ANZ_HAUSHALTE_AKTIV       99611\n",
      "ANZ_HH_TITEL              97008\n",
      "GEBAEUDETYP               93148\n",
      "KONSUMNAEHE               73969\n",
      "MIN_GEBAEUDEJAHR          93148\n",
      "OST_WEST_KZ               93148\n",
      "WOHNLAGE                  93148\n",
      "CAMEO_DEUG_2015           99352\n",
      "CAMEO_DEU_2015            99352\n",
      "CAMEO_INTL_2015           99352\n",
      "KBA05_ANTG1              133324\n",
      "KBA05_ANTG2              133324\n",
      "KBA05_ANTG3              133324\n",
      "KBA05_ANTG4              133324\n",
      "KBA05_BAUMAX             476524\n",
      "KBA05_GBZ                133324\n",
      "BALLRAUM                  93740\n",
      "EWDICHTE                  93740\n",
      "INNENSTADT                93740\n",
      "GEBAEUDETYP_RASTER        93155\n",
      "KKK                      158064\n",
      "MOBI_REGIO               133324\n",
      "ONLINE_AFFINITAET          4854\n",
      "REGIOTYP                 158064\n",
      "KBA13_ANZAHL_PKW         105800\n",
      "PLZ8_ANTG1               116515\n",
      "PLZ8_ANTG2               116515\n",
      "PLZ8_ANTG3               116515\n",
      "PLZ8_ANTG4               116515\n",
      "PLZ8_BAUMAX              116515\n",
      "PLZ8_HHZ                 116515\n",
      "PLZ8_GBZ                 116515\n",
      "ARBEIT                    97375\n",
      "ORTSGR_KLS9               97274\n",
      "RELAT_AB                  97375\n",
      "dtype: int64\n"
     ]
    }
   ],
   "source": [
    "# Perform an assessment of how much missing data there is in each column of the\n",
    "# dataset.\n",
    "\n",
    "az_null = azdias.isnull().sum() \n",
    "null_col = az_null[az_null>0] \n",
    "print(null_col)"
   ]
  },
  {
   "cell_type": "code",
   "execution_count": 12,
   "metadata": {},
   "outputs": [
    {
     "data": {
      "image/png": "[encoded data removed]",
      "text/plain": [
       "<matplotlib.figure.Figure at 0x7f28c17f2e10>"
      ]
     },
     "metadata": {
      "needs_background": "light"
     },
     "output_type": "display_data"
    }
   ],
   "source": [
    "# Investigate patterns in the amount of missing data in each column.\n",
    "plt.hist(null_col)\n",
    "plt.ylabel('Column Count')\n",
    "plt.xlabel('Total Rows with Missing Value')\n",
    "plt.show()"
   ]
  },
  {
   "cell_type": "code",
   "execution_count": 13,
   "metadata": {},
   "outputs": [
    {
     "name": "stdout",
     "output_type": "stream",
     "text": [
      "AGER_TYP        685843\n",
      "GEBURTSJAHR     392318\n",
      "TITEL_KZ        889061\n",
      "ALTER_HH        310267\n",
      "KK_KUNDENTYP    584612\n",
      "KBA05_BAUMAX    476524\n",
      "dtype: int64\n"
     ]
    }
   ],
   "source": [
    "# Remove the outlier columns from the dataset. (You'll perform other data\n",
    "# engineering tasks such as re-encoding and imputation later.)\n",
    "null_col = null_col[null_col>200000] \n",
    "print(null_col)"
   ]
  },
  {
   "cell_type": "code",
   "execution_count": 14,
   "metadata": {},
   "outputs": [],
   "source": [
    "#Drop any columns with total missing value > 200000\n",
    "azdias=azdias.drop(null_col.index, axis=1)"
   ]
  },
  {
   "cell_type": "code",
   "execution_count": 15,
   "metadata": {},
   "outputs": [
    {
     "data": {
      "text/plain": [
       "Index(['ALTERSKATEGORIE_GROB', 'ANREDE_KZ', 'CJT_GESAMTTYP',\n",
       "       'FINANZ_MINIMALIST', 'FINANZ_SPARER', 'FINANZ_VORSORGER',\n",
       "       'FINANZ_ANLEGER', 'FINANZ_UNAUFFAELLIGER', 'FINANZ_HAUSBAUER',\n",
       "       'FINANZTYP', 'GFK_URLAUBERTYP', 'GREEN_AVANTGARDE', 'HEALTH_TYP',\n",
       "       'LP_LEBENSPHASE_FEIN', 'LP_LEBENSPHASE_GROB', 'LP_FAMILIE_FEIN',\n",
       "       'LP_FAMILIE_GROB', 'LP_STATUS_FEIN', 'LP_STATUS_GROB',\n",
       "       'NATIONALITAET_KZ', 'PRAEGENDE_JUGENDJAHRE', 'RETOURTYP_BK_S',\n",
       "       'SEMIO_SOZ', 'SEMIO_FAM', 'SEMIO_REL', 'SEMIO_MAT', 'SEMIO_VERT',\n",
       "       'SEMIO_LUST', 'SEMIO_ERL', 'SEMIO_KULT', 'SEMIO_RAT', 'SEMIO_KRIT',\n",
       "       'SEMIO_DOM', 'SEMIO_KAEM', 'SEMIO_PFLICHT', 'SEMIO_TRADV',\n",
       "       'SHOPPER_TYP', 'SOHO_KZ', 'VERS_TYP', 'ZABEOTYP', 'ANZ_PERSONEN',\n",
       "       'ANZ_TITEL', 'HH_EINKOMMEN_SCORE', 'W_KEIT_KIND_HH', 'WOHNDAUER_2008',\n",
       "       'ANZ_HAUSHALTE_AKTIV', 'ANZ_HH_TITEL', 'GEBAEUDETYP', 'KONSUMNAEHE',\n",
       "       'MIN_GEBAEUDEJAHR', 'OST_WEST_KZ', 'WOHNLAGE', 'CAMEO_DEUG_2015',\n",
       "       'CAMEO_DEU_2015', 'CAMEO_INTL_2015', 'KBA05_ANTG1', 'KBA05_ANTG2',\n",
       "       'KBA05_ANTG3', 'KBA05_ANTG4', 'KBA05_GBZ', 'BALLRAUM', 'EWDICHTE',\n",
       "       'INNENSTADT', 'GEBAEUDETYP_RASTER', 'KKK', 'MOBI_REGIO',\n",
       "       'ONLINE_AFFINITAET', 'REGIOTYP', 'KBA13_ANZAHL_PKW', 'PLZ8_ANTG1',\n",
       "       'PLZ8_ANTG2', 'PLZ8_ANTG3', 'PLZ8_ANTG4', 'PLZ8_BAUMAX', 'PLZ8_HHZ',\n",
       "       'PLZ8_GBZ', 'ARBEIT', 'ORTSGR_KLS9', 'RELAT_AB'],\n",
       "      dtype='object')"
      ]
     },
     "execution_count": 15,
     "metadata": {},
     "output_type": "execute_result"
    }
   ],
   "source": [
    "#print(azdias['AGER_TYP']) AGER_TYP, GEBURTSJAHR, TITEL_KZ, ALTER_HH, KK_KUNDENTYP, KBA05_BAUMAX\n",
    "azdias.columns"
   ]
  },
  {
   "cell_type": "code",
   "execution_count": 16,
   "metadata": {},
   "outputs": [
    {
     "data": {
      "text/plain": [
       "(891221, 79)"
      ]
     },
     "execution_count": 16,
     "metadata": {},
     "output_type": "execute_result"
    }
   ],
   "source": [
    "azdias.shape"
   ]
  },
  {
   "cell_type": "markdown",
   "metadata": {},
   "source": [
    "#### Discussion 1.1.2: Assess Missing Data in Each Column\n",
    "- 93% of total columns (79) have missing data less than 200,000 rows. The remaining six columns with more than 200,000 rows (AGER_TYP, GEBURTSJAHR, TITEL_KZ, ALTER_HH, KK_KUNDENTYP, KBA05_BAUMAX) are considered outliers and removed from the dataset.\n",
    "\n",
    "-The following column pairs have very similar information with different granularity levels and labels:\n",
    "\n",
    "1. LP_LEBENSPHASE_FEIN vs. LP_LEBENSPHASE_GROB\n",
    "\n",
    "2. LP_FAMILIE_FEIN vs. LP_FAMILIE_GROB\n",
    "\n",
    "3. LP_STATUS_FEIN vs. LP_STATUS_GROB\n",
    "    ^FEIN = fine/detailed scale \n",
    "    ^^ GROB = rough scale \n",
    "    The fine scale information can be summarized and fit to the rough scale\n",
    "\n",
    "4. CAMEO_DEUG_2015 contains rough scale of data and CAMEO_DEU_2015 has detailed ones. CAMEO_INTL_2015 column can be used to replace CAMEO_DEUG_2015 and CAMEO_DEU_2015 which will provide each rough scale with five detailed data.\n",
    "\n",
    "5. KBA05_ANTG1, KBA05_ANTG2, KBA05_ANTG3 and KBA05_ANTG4 contains detailed data which can be summarized into rough scale like data in column KBA05_GBZ\n",
    "\n",
    "6. Similar to above, PLZ8_ANTG1, PLZ8_ANTG2, PLZ8_ANTG3 and PLZ8_ANTG4 contains detailed data which can be summarized into rough scale like data in column PLZ8_BAUMAX\n"
   ]
  },
  {
   "cell_type": "markdown",
   "metadata": {},
   "source": [
    "#### Step 1.1.3: Assess Missing Data in Each Row\n",
    "\n",
    "Now, you'll perform a similar assessment for the rows of the dataset. How much data is missing in each row? As with the columns, you should see some groups of points that have a very different numbers of missing values. Divide the data into two subsets: one for data points that are above some threshold for missing values, and a second subset for points below that threshold.\n",
    "\n",
    "In order to know what to do with the outlier rows, we should see if the distribution of data values on columns that are not missing data (or are missing very little data) are similar or different between the two groups. Select at least five of these columns and compare the distribution of values.\n",
    "- You can use seaborn's [`countplot()`](https://seaborn.pydata.org/generated/seaborn.countplot.html) function to create a bar chart of code frequencies and matplotlib's [`subplot()`](https://matplotlib.org/api/_as_gen/matplotlib.pyplot.subplot.html) function to put bar charts for the two subplots side by side.\n",
    "- To reduce repeated code, you might want to write a function that can perform this comparison, taking as one of its arguments a column to be compared.\n",
    "\n",
    "Depending on what you observe in your comparison, this will have implications on how you approach your conclusions later in the analysis. If the distributions of non-missing features look similar between the data with many missing values and the data with few or no missing values, then we could argue that simply dropping those points from the analysis won't present a major issue. On the other hand, if the data with many missing values looks very different from the data with few or no missing values, then we should make a note on those data as special. We'll revisit these data later on. **Either way, you should continue your analysis for now using just the subset of the data with few or no missing values.**"
   ]
  },
  {
   "cell_type": "code",
   "execution_count": 17,
   "metadata": {},
   "outputs": [],
   "source": [
    "# How much data is missing in each row of the dataset?\n",
    "null_row =azdias.isnull().sum(axis=1)\n",
    "null_row = null_row[null_row>0]"
   ]
  },
  {
   "cell_type": "code",
   "execution_count": 18,
   "metadata": {},
   "outputs": [
    {
     "data": {
      "image/png": "[encoded data removed]",
      "text/plain": [
       "<matplotlib.figure.Figure at 0x7f28c18681d0>"
      ]
     },
     "metadata": {
      "needs_background": "light"
     },
     "output_type": "display_data"
    }
   ],
   "source": [
    "plt.hist(null_row)\n",
    "plt.ylabel('Row Count')\n",
    "plt.xlabel('Number of Missing Value')\n",
    "plt.show()"
   ]
  },
  {
   "cell_type": "code",
   "execution_count": 19,
   "metadata": {},
   "outputs": [],
   "source": [
    "# Write code to divide the data into two subsets based on the number of missing\n",
    "# values in each row.\n",
    "null_row1=null_row[null_row<=20]\n",
    "null_row2=null_row[null_row>=30]\n",
    "\n",
    "azdias1=azdias.iloc[null_row1.index,:]\n",
    "azdias2=azdias.iloc[null_row2.index,:]\n"
   ]
  },
  {
   "cell_type": "code",
   "execution_count": 20,
   "metadata": {},
   "outputs": [
    {
     "data": {
      "text/plain": [
       "(174217, 79)"
      ]
     },
     "execution_count": 20,
     "metadata": {},
     "output_type": "execute_result"
    }
   ],
   "source": [
    "#azdias1.head().transpose()\n",
    "#azdias2.head().transpose()\n",
    "azdias1.shape"
   ]
  },
  {
   "cell_type": "code",
   "execution_count": 21,
   "metadata": {},
   "outputs": [
    {
     "name": "stdout",
     "output_type": "stream",
     "text": [
      "['ANREDE_KZ', 'FINANZ_MINIMALIST', 'FINANZ_SPARER', 'FINANZ_VORSORGER', 'FINANZ_ANLEGER', 'FINANZ_UNAUFFAELLIGER', 'FINANZ_HAUSBAUER', 'FINANZTYP', 'GREEN_AVANTGARDE', 'SEMIO_SOZ', 'SEMIO_FAM', 'SEMIO_REL', 'SEMIO_MAT', 'SEMIO_VERT', 'SEMIO_LUST', 'SEMIO_ERL', 'SEMIO_KULT', 'SEMIO_RAT', 'SEMIO_KRIT', 'SEMIO_DOM', 'SEMIO_KAEM', 'SEMIO_PFLICHT', 'SEMIO_TRADV', 'ZABEOTYP']\n"
     ]
    }
   ],
   "source": [
    "zero_null = az_null[az_null==0].index.tolist()\n",
    "print(zero_null)"
   ]
  },
  {
   "cell_type": "code",
   "execution_count": 22,
   "metadata": {},
   "outputs": [
    {
     "data": {
      "text/plain": [
       "24"
      ]
     },
     "execution_count": 22,
     "metadata": {},
     "output_type": "execute_result"
    }
   ],
   "source": [
    "len(zero_null)"
   ]
  },
  {
   "cell_type": "code",
   "execution_count": 23,
   "metadata": {},
   "outputs": [],
   "source": [
    "compare_col = zero_null[0:23]"
   ]
  },
  {
   "cell_type": "code",
   "execution_count": 24,
   "metadata": {
    "scrolled": true
   },
   "outputs": [
    {
     "data": {
      "image/png": "[encoded data removed]",
      "text/plain": [
       "<matplotlib.figure.Figure at 0x7f28bf6d4a58>"
      ]
     },
     "metadata": {
      "needs_background": "light"
     },
     "output_type": "display_data"
    }
   ],
   "source": [
    "# Compare the distribution of values for at least five columns where there are \n",
    "# no or few missing values, between the two subsets.\n",
    "figure, axs = plt.subplots(nrows=len(compare_col), ncols=2, figsize = (20,100))\n",
    "figure.subplots_adjust(hspace = 1, wspace=.3)\n",
    "for i in range(len(compare_col)):\n",
    "    sns.countplot(azdias1[compare_col[i]], ax=axs[i][0])\n",
    "    axs[i][0].set_title('<=20 missing values')\n",
    "    sns.countplot(azdias2[compare_col[i]], ax=axs[i][1])\n",
    "    axs[i][1].set_title('>=30 missing values')"
   ]
  },
  {
   "cell_type": "markdown",
   "metadata": {},
   "source": [
    "#### Discussion 1.1.3: Assess Missing Data in Each Row\n",
    "\n",
    "Looking at 24 pair of charts above, the only pair that shows similarity between the two groups is only \"ANREDE_KZ\".The remaining elements have different distribution patterns in both groups."
   ]
  },
  {
   "cell_type": "markdown",
   "metadata": {},
   "source": [
    "### Step 1.2: Select and Re-Encode Features\n",
    "\n",
    "Checking for missing data isn't the only way in which you can prepare a dataset for analysis. Since the unsupervised learning techniques to be used will only work on data that is encoded numerically, you need to make a few encoding changes or additional assumptions to be able to make progress. In addition, while almost all of the values in the dataset are encoded using numbers, not all of them represent numeric values. Check the third column of the feature summary (`feat_info`) for a summary of types of measurement.\n",
    "- For numeric and interval data, these features can be kept without changes.\n",
    "- Most of the variables in the dataset are ordinal in nature. While ordinal values may technically be non-linear in spacing, make the simplifying assumption that the ordinal variables can be treated as being interval in nature (that is, kept without any changes).\n",
    "- Special handling may be necessary for the remaining two variable types: categorical, and 'mixed'.\n",
    "\n",
    "In the first two parts of this sub-step, you will perform an investigation of the categorical and mixed-type features and make a decision on each of them, whether you will keep, drop, or re-encode each. Then, in the last part, you will create a new data frame with only the selected and engineered columns.\n",
    "\n",
    "Data wrangling is often the trickiest part of the data analysis process, and there's a lot of it to be done here. But stick with it: once you're done with this step, you'll be ready to get to the machine learning parts of the project!"
   ]
  },
  {
   "cell_type": "code",
   "execution_count": 25,
   "metadata": {},
   "outputs": [
    {
     "name": "stdout",
     "output_type": "stream",
     "text": [
      "There are 49 ordinal features.\n",
      "There are 18 categorical features.\n",
      "There are 6 mixed features.\n",
      "There are 6 numeric features.\n"
     ]
    },
    {
     "data": {
      "text/plain": [
       "79"
      ]
     },
     "execution_count": 25,
     "metadata": {},
     "output_type": "execute_result"
    }
   ],
   "source": [
    "# How many features are there of each data type?\n",
    "azdias1.shape\n",
    "feature = list(azdias1.columns) \n",
    "feat_attribute = feat_info[feat_info['attribute'].isin(feature)]\n",
    "data_type_ct = feat_attribute['type'].value_counts()\n",
    "for i in range(len(data_type_ct)):\n",
    "    print('There are {} {} features.'.format(data_type_ct[i], data_type_ct.index[i]))\n",
    "\n",
    "len(feat_attribute)\n"
   ]
  },
  {
   "cell_type": "markdown",
   "metadata": {},
   "source": [
    "#### Step 1.2.1: Re-Encode Categorical Features\n",
    "\n",
    "For categorical data, you would ordinarily need to encode the levels as dummy variables. Depending on the number of categories, perform one of the following:\n",
    "- For binary (two-level) categoricals that take numeric values, you can keep them without needing to do anything.\n",
    "- There is one binary variable that takes on non-numeric values. For this one, you need to re-encode the values as numbers or create a dummy variable.\n",
    "- For multi-level categoricals (three or more values), you can choose to encode the values using multiple dummy variables (e.g. via [OneHotEncoder](http://scikit-learn.org/stable/modules/generated/sklearn.preprocessing.OneHotEncoder.html)), or (to keep things straightforward) just drop them from the analysis. As always, document your choices in the Discussion section."
   ]
  },
  {
   "cell_type": "code",
   "execution_count": 26,
   "metadata": {},
   "outputs": [],
   "source": [
    "# Assess categorical variables: which are binary, which are multi-level, and\n",
    "# which one needs to be re-encoded?\n",
    "#len(feat_attribute)\n",
    "feat_categorical = feat_attribute[feat_attribute[\"type\"]==\"categorical\"][\"attribute\"]\n",
    "feat_binary = []\n",
    "feat_multilevel=[]\n",
    "for feature in feat_categorical:    \n",
    "    if (len(azdias1[feature].unique())==2):\n",
    "        feat_binary.append(feature)\n",
    "    elif (len(azdias1[feature].unique())>2):\n",
    "        feat_multilevel.append(feature)"
   ]
  },
  {
   "cell_type": "code",
   "execution_count": 27,
   "metadata": {},
   "outputs": [
    {
     "name": "stdout",
     "output_type": "stream",
     "text": [
      "Unique values for ANREDE_KZ are [2 1]\n",
      "Unique values for GREEN_AVANTGARDE are [0 1]\n",
      "Unique values for SOHO_KZ are [ 0.  1.]\n",
      "Unique values for OST_WEST_KZ are ['W' 'O']\n"
     ]
    }
   ],
   "source": [
    "for feature in feat_binary:\n",
    "    print('Unique values for {} are {}'.format(feature, azdias1[feature].unique()))"
   ]
  },
  {
   "cell_type": "code",
   "execution_count": 28,
   "metadata": {},
   "outputs": [
    {
     "name": "stdout",
     "output_type": "stream",
     "text": [
      "Unique values for CJT_GESAMTTYP are [  2.   6.   5.   4.   1.   3.  nan]\n",
      "Unique values for FINANZTYP are [6 3 1 2 4 5]\n",
      "Unique values for GFK_URLAUBERTYP are [  1.  10.  12.  11.   2.   5.   4.   3.   8.   9.  nan   7.   6.]\n",
      "Unique values for LP_FAMILIE_FEIN are [ nan   5.   1.   2.  11.   8.   7.  10.   6.   4.   9.   3.]\n",
      "Unique values for LP_FAMILIE_GROB are [ nan   3.   1.   2.   5.   4.]\n",
      "Unique values for LP_STATUS_FEIN are [  9.   5.   8.  10.   4.   3.   2.   1.   6.  nan   7.]\n",
      "Unique values for LP_STATUS_GROB are [  4.   2.   5.   1.   3.  nan]\n",
      "Unique values for NATIONALITAET_KZ are [  1.   3.   2.  nan]\n",
      "Unique values for SHOPPER_TYP are [  1.   3.   2.   0.  nan]\n",
      "Unique values for VERS_TYP are [  1.   2.  nan]\n",
      "Unique values for ZABEOTYP are [3 1 5 4 6 2]\n",
      "Unique values for GEBAEUDETYP are [ 1.  8.  2.  3.  6.  4.]\n",
      "Unique values for CAMEO_DEUG_2015 are ['2' '6' '5' '8' '7' '4' nan '3' '9' '1']\n",
      "Unique values for CAMEO_DEU_2015 are ['2A' '6B' '5C' '8B' '7A' '4C' nan '3D' '4B' '8A' '9A' '4A' '6D' '7B' '4E'\n",
      " '1B' '3C' '7C' '6A' '1D' '6C' '4D' '5D' '9D' '5A' '1A' '9B' '2B' '8C' '9C'\n",
      " '5B' '8D' '3A' '3B' '2D' '2C' '9E' '5F' '7D' '1E' '1C' '7E' '5E' '6F' '6E']\n"
     ]
    }
   ],
   "source": [
    "for feature in feat_multilevel:\n",
    "    print('Unique values for {} are {}'.format(feature, azdias1[feature].unique()))"
   ]
  },
  {
   "cell_type": "code",
   "execution_count": 29,
   "metadata": {},
   "outputs": [],
   "source": [
    "# Re-encode categorical variable(s) to be kept in the analysis.\n",
    "values = {'W': 0, 'O': 1}\n",
    "azdias1_binary = azdias1.replace({'OST_WEST_KZ':values})"
   ]
  },
  {
   "cell_type": "code",
   "execution_count": 30,
   "metadata": {},
   "outputs": [
    {
     "data": {
      "text/plain": [
       "array([0, 1])"
      ]
     },
     "execution_count": 30,
     "metadata": {},
     "output_type": "execute_result"
    }
   ],
   "source": [
    "azdias1_binary['OST_WEST_KZ'].unique() "
   ]
  },
  {
   "cell_type": "code",
   "execution_count": 31,
   "metadata": {},
   "outputs": [
    {
     "data": {
      "text/plain": [
       "(174217, 79)"
      ]
     },
     "execution_count": 31,
     "metadata": {},
     "output_type": "execute_result"
    }
   ],
   "source": [
    "azdias1_binary.shape"
   ]
  },
  {
   "cell_type": "code",
   "execution_count": 32,
   "metadata": {},
   "outputs": [],
   "source": [
    "for feature in feat_multilevel:\n",
    "    azdias1_binary=azdias1_binary.drop(feature, axis=1)"
   ]
  },
  {
   "cell_type": "code",
   "execution_count": 33,
   "metadata": {},
   "outputs": [
    {
     "data": {
      "text/plain": [
       "(174217, 65)"
      ]
     },
     "execution_count": 33,
     "metadata": {},
     "output_type": "execute_result"
    }
   ],
   "source": [
    "azdias1_binary.shape"
   ]
  },
  {
   "cell_type": "markdown",
   "metadata": {},
   "source": [
    "#### Discussion 1.2.1: Re-Encode Categorical Features\n",
    "\n",
    "- Keep all the binary categorical columns: ANREDE_KZ, GREEN_AVANTGARDE, SOHO_KZ and replace OST_WEST_KZ value to [0,1]\n",
    "- Drop the remaining multiple-level categorical columns: CJT_GESAMTTYP, FINANZTYP, GFK_URLAUBERTYP, LP_FAMILIE_FEIN, LP_FAMILIE_GROB, LP_STATUS_FEIN, LP_STATUS_GROB, NATIONALITAET_KZ, SHOPPER_TYP, VERS_TYP, ZABEOTYP, GEBAEUDETYP, CAMEO_DEUG_2015, CAMEO_DEU_2015"
   ]
  },
  {
   "cell_type": "markdown",
   "metadata": {},
   "source": [
    "#### Step 1.2.2: Engineer Mixed-Type Features\n",
    "\n",
    "There are a handful of features that are marked as \"mixed\" in the feature summary that require special treatment in order to be included in the analysis. There are two in particular that deserve attention; the handling of the rest are up to your own choices:\n",
    "- \"PRAEGENDE_JUGENDJAHRE\" combines information on three dimensions: generation by decade, movement (mainstream vs. avantgarde), and nation (east vs. west). While there aren't enough levels to disentangle east from west, you should create two new variables to capture the other two dimensions: an interval-type variable for decade, and a binary variable for movement.\n",
    "- \"CAMEO_INTL_2015\" combines information on two axes: wealth and life stage. Break up the two-digit codes by their 'tens'-place and 'ones'-place digits into two new ordinal variables (which, for the purposes of this project, is equivalent to just treating them as their raw numeric values).\n",
    "- If you decide to keep or engineer new features around the other mixed-type features, make sure you note your steps in the Discussion section.\n",
    "\n",
    "Be sure to check `Data_Dictionary.md` for the details needed to finish these tasks."
   ]
  },
  {
   "cell_type": "code",
   "execution_count": 34,
   "metadata": {},
   "outputs": [],
   "source": [
    "# Investigate \"PRAEGENDE_JUGENDJAHRE\" and engineer two new variables.\n",
    "#azdias1_binary['PRAEGENDE_JUGENDJAHRE'].unique()\n",
    "azdias1_binary['DECADE'] = azdias1_binary['PRAEGENDE_JUGENDJAHRE']\n",
    "azdias1_binary['MOVEMENT'] = azdias1_binary['PRAEGENDE_JUGENDJAHRE']"
   ]
  },
  {
   "cell_type": "code",
   "execution_count": 35,
   "metadata": {},
   "outputs": [],
   "source": [
    "replace_d = {1:1, 2:1, 3:2, 4:2, 5:3, 6:3, 7:3, 8:4, 9:4, 10:5, 11:5, 12:5, 13:5, 14:6, 15:6}\n",
    "replace_m = {1:1, 2:0, 3:1, 4:0, 5:1, 6:0, 7:0, 8:1, 9:0, 10:1, 11:0, 12:1, 13:0, 14:1, 15:0}"
   ]
  },
  {
   "cell_type": "code",
   "execution_count": 36,
   "metadata": {},
   "outputs": [],
   "source": [
    "azdias1_binary['DECADE'].replace(replace_d, inplace=True)\n",
    "azdias1_binary['MOVEMENT'].replace(replace_m, inplace=True)"
   ]
  },
  {
   "cell_type": "code",
   "execution_count": 37,
   "metadata": {},
   "outputs": [],
   "source": [
    "# Investigate \"CAMEO_INTL_2015\" and engineer two new variables.\n",
    "azdias1_binary['WEALTH'] = azdias1_binary['CAMEO_INTL_2015']\n",
    "azdias1_binary['LIFE_STAGE'] = azdias1_binary['CAMEO_INTL_2015']"
   ]
  },
  {
   "cell_type": "code",
   "execution_count": 38,
   "metadata": {},
   "outputs": [],
   "source": [
    "replace_w = {'11':1, '12':1, '13':1, '14':1, '15':1, '21':2, '22':2, '23':2, '24':2, '25':2,\n",
    "               '31':3, '32':3, '33':3, '34':3, '35':3, '41':4, '42':4, '43':4, '44':4, '45':4,\n",
    "               '51':5, '52':5, '53':5, '54':5, '55':5}\n",
    "\n",
    "replace_l = {'11':1, '12':2, '13':3, '14':4, '15':5, '21':1, '22':2, '23':3, '24':4, '25':5,\n",
    "                   '31':1, '32':2, '33':3, '34':4, '35':5, '41':1, '42':2, '43':3, '44':4, '45':5,\n",
    "                   '51':1, '52':2, '53':3, '54':4, '55':5}"
   ]
  },
  {
   "cell_type": "code",
   "execution_count": 39,
   "metadata": {},
   "outputs": [],
   "source": [
    "azdias1_binary['WEALTH'].replace(replace_w, inplace=True)\n",
    "azdias1_binary['LIFE_STAGE'].replace(replace_l, inplace=True)"
   ]
  },
  {
   "cell_type": "markdown",
   "metadata": {},
   "source": [
    "#### Discussion 1.2.2: Engineer Mixed-Type Features\n",
    "\n",
    "I decided to keep the following two mixed-value features and drop the remaining four mixed-values features:\n",
    "\n",
    "- PRAEGENDE_JUGENDJAHRE\n",
    "- CAMEO_INTL_2015\n",
    "\n",
    "The following is engineering steps performed:\n",
    "1. Created two new feature columns and copied values from the original mixed-value features\n",
    "2. Created two dictionaries to map original values to new values\n",
    "3. Replaced the original values in the new feature columns with new values\n"
   ]
  },
  {
   "cell_type": "markdown",
   "metadata": {},
   "source": [
    "#### Step 1.2.3: Complete Feature Selection\n",
    "\n",
    "In order to finish this step up, you need to make sure that your data frame now only has the columns that you want to keep. To summarize, the dataframe should consist of the following:\n",
    "- All numeric, interval, and ordinal type columns from the original dataset.\n",
    "- Binary categorical features (all numerically-encoded).\n",
    "- Engineered features from other multi-level categorical features and mixed features.\n",
    "\n",
    "Make sure that for any new columns that you have engineered, that you've excluded the original columns from the final dataset. Otherwise, their values will interfere with the analysis later on the project. For example, you should not keep \"PRAEGENDE_JUGENDJAHRE\", since its values won't be useful for the algorithm: only the values derived from it in the engineered features you created should be retained. As a reminder, your data should only be from **the subset with few or no missing values**."
   ]
  },
  {
   "cell_type": "code",
   "execution_count": 40,
   "metadata": {},
   "outputs": [],
   "source": [
    "# If there are other re-engineering tasks you need to perform, make sure you\n",
    "# take care of them here. (Dealing with missing data will come in step 2.1.)"
   ]
  },
  {
   "cell_type": "code",
   "execution_count": 41,
   "metadata": {},
   "outputs": [],
   "source": [
    "# Do whatever you need to in order to ensure that the dataframe only contains\n",
    "# the columns that should be passed to the algorithm functions.\n",
    "\n",
    "feat_mixed = feat_attribute[feat_attribute[\"type\"]==\"mixed\"][\"attribute\"]\n",
    "for feature in feat_mixed:\n",
    "    azdias1_binary.drop(feature, axis=1, inplace=True)"
   ]
  },
  {
   "cell_type": "code",
   "execution_count": 42,
   "metadata": {},
   "outputs": [
    {
     "data": {
      "text/plain": [
       "(174217, 63)"
      ]
     },
     "execution_count": 42,
     "metadata": {},
     "output_type": "execute_result"
    }
   ],
   "source": [
    "azdias1_binary.shape"
   ]
  },
  {
   "cell_type": "markdown",
   "metadata": {},
   "source": [
    "### Step 1.3: Create a Cleaning Function\n",
    "\n",
    "Even though you've finished cleaning up the general population demographics data, it's important to look ahead to the future and realize that you'll need to perform the same cleaning steps on the customer demographics data. In this substep, complete the function below to execute the main feature selection, encoding, and re-engineering steps you performed above. Then, when it comes to looking at the customer data in Step 3, you can just run this function on that DataFrame to get the trimmed dataset in a single step."
   ]
  },
  {
   "cell_type": "code",
   "execution_count": 43,
   "metadata": {},
   "outputs": [],
   "source": [
    "def clean_data(df):\n",
    "    \"\"\"\n",
    "    Perform feature trimming, re-encoding, and engineering for demographics\n",
    "    data\n",
    "    \n",
    "    INPUT: Demographics DataFrame\n",
    "    OUTPUT: Trimmed and cleaned demographics DataFrame\n",
    "    \"\"\"\n",
    "    \n",
    "    # Put in code here to execute all main cleaning steps:\n",
    "    # convert missing value codes into NaNs, ...\n",
    "    values = ['-1','0','1','2','3','4','5','6','7','8','9']\n",
    "    for column in range(df.shape[1]):\n",
    "        missing_unknown = feat_info.iloc[column][3] #feat_info['missing_or_unknown']\n",
    "        missing_unknown = missing_unknown.strip('[')\n",
    "        missing_unknown = missing_unknown.strip(']')\n",
    "        missing_unknown = missing_unknown.split(sep=',')\n",
    "        for i in range(len(missing_unknown)):\n",
    "            if missing_unknown[i] in values:\n",
    "                    missing_unknown[i] = int(missing_unknown[i])\n",
    "        if(missing_unknown!=['']):\n",
    "            df = df.replace({feat_info.iloc[column][0]: missing_unknown}, np.nan)\n",
    "    \n",
    "    # remove selected columns and rows, ...\n",
    "    #1. remove selected columns\n",
    "    az_null = df.isnull().sum() \n",
    "    null_col = az_null[az_null>0] \n",
    "    null_col = null_col[null_col>200000] \n",
    "    df = df.drop(null_col.index, axis=1)\n",
    "    \n",
    "        #2. remove selected rows\n",
    "    \n",
    "    null_row =df.isnull().sum(axis=1)\n",
    "    null_row = null_row[null_row>0]\n",
    "\n",
    "    null_row1=null_row[null_row<=20]\n",
    "    null_row2=null_row[null_row>=30]\n",
    "\n",
    "    azdias1=df.iloc[null_row1.index,:]\n",
    "    azdias2=df.iloc[null_row2.index,:]\n",
    "\n",
    "    feat_categorical = feat_attribute[feat_attribute[\"type\"]==\"categorical\"][\"attribute\"]\n",
    "    feat_mixed = feat_attribute[feat_attribute[\"type\"]==\"mixed\"][\"attribute\"]\n",
    "    \n",
    "    feat_binary = []\n",
    "    feat_multilevel=[]\n",
    "\n",
    "    for feature in feat_categorical:    \n",
    "        if (len(azdias1[feature].unique())==2):\n",
    "            feat_binary.append(feature)\n",
    "        elif (len(azdias1[feature].unique())>2):\n",
    "            feat_multilevel.append(feature)\n",
    "            \n",
    "    values = {'W': 0, 'O': 1}\n",
    "    azdias1_binary = azdias1.replace({'OST_WEST_KZ':values})\n",
    "    \n",
    "    for feature in feat_multilevel:\n",
    "        azdias1_binary=azdias1_binary.drop(feature, axis=1)\n",
    "        \n",
    "    azdias1_binary['DECADE'] = azdias1_binary['PRAEGENDE_JUGENDJAHRE']\n",
    "    azdias1_binary['MOVEMENT'] = azdias1_binary['PRAEGENDE_JUGENDJAHRE']\n",
    "\n",
    "    azdias1_binary['WEALTH'] = azdias1_binary['CAMEO_INTL_2015']\n",
    "    azdias1_binary['LIFE_STAGE'] = azdias1_binary['CAMEO_INTL_2015']\n",
    "    \n",
    "    for feature in feat_mixed:\n",
    "        azdias1_binary.drop(feature, axis=1, inplace=True)\n",
    "    \n",
    "    replace_d = {1:1, 2:1, 3:2, 4:2, 5:3, 6:3, 7:3, 8:4, 9:4, 10:5, 11:5, 12:5, 13:5, 14:6, 15:6}\n",
    "    replace_m = {1:1, 2:0, 3:1, 4:0, 5:1, 6:0, 7:0, 8:1, 9:0, 10:1, 11:0, 12:1, 13:0, 14:1, 15:0}\n",
    "    replace_w = {'11':1, '12':1, '13':1, '14':1, '15':1, '21':2, '22':2, '23':2, '24':2, '25':2,'31':3, '32':3, '33':3, '34':3, '35':3, '41':4, '42':4, '43':4, '44':4, '45':4,'51':5, '52':5, '53':5, '54':5, '55':5}\n",
    "    replace_l = {'11':1, '12':2, '13':3, '14':4, '15':5, '21':1, '22':2, '23':3, '24':4, '25':5, '31':1, '32':2, '33':3, '34':4, '35':5, '41':1, '42':2, '43':3, '44':4, '45':5, '51':1, '52':2, '53':3, '54':4, '55':5}\n",
    "\n",
    "    azdias1_binary['DECADE'].replace(replace_d, inplace=True)\n",
    "    azdias1_binary['MOVEMENT'].replace(replace_m, inplace=True)\n",
    "    azdias1_binary['WEALTH'].replace(replace_w, inplace=True)\n",
    "    azdias1_binary['LIFE_STAGE'].replace(replace_l, inplace=True)\n",
    "    \n",
    "    # Return the cleaned dataframe.\n",
    "    return azdias1_binary\n"
   ]
  },
  {
   "cell_type": "markdown",
   "metadata": {},
   "source": [
    "## Step 2: Feature Transformation\n",
    "\n",
    "### Step 2.1: Apply Feature Scaling\n",
    "\n",
    "Before we apply dimensionality reduction techniques to the data, we need to perform feature scaling so that the principal component vectors are not influenced by the natural differences in scale for features. Starting from this part of the project, you'll want to keep an eye on the [API reference page for sklearn](http://scikit-learn.org/stable/modules/classes.html) to help you navigate to all of the classes and functions that you'll need. In this substep, you'll need to check the following:\n",
    "\n",
    "- sklearn requires that data not have missing values in order for its estimators to work properly. So, before applying the scaler to your data, make sure that you've cleaned the DataFrame of the remaining missing values. This can be as simple as just removing all data points with missing data, or applying an [Imputer](http://scikit-learn.org/stable/modules/generated/sklearn.preprocessing.Imputer.html) to replace all missing values. You might also try a more complicated procedure where you temporarily remove missing values in order to compute the scaling parameters before re-introducing those missing values and applying imputation. Think about how much missing data you have and what possible effects each approach might have on your analysis, and justify your decision in the discussion section below.\n",
    "- For the actual scaling function, a [StandardScaler](http://scikit-learn.org/stable/modules/generated/sklearn.preprocessing.StandardScaler.html) instance is suggested, scaling each feature to mean 0 and standard deviation 1.\n",
    "- For these classes, you can make use of the `.fit_transform()` method to both fit a procedure to the data as well as apply the transformation to the data at the same time. Don't forget to keep the fit sklearn objects handy, since you'll be applying them to the customer demographics data towards the end of the project."
   ]
  },
  {
   "cell_type": "code",
   "execution_count": 44,
   "metadata": {},
   "outputs": [],
   "source": [
    "# If you've not yet cleaned the dataset of all NaN values, then investigate and\n",
    "# do that now.\n",
    "Filling_NA = Imputer(strategy='most_frequent')\n",
    "azdias1_binary_imputed = pd.DataFrame(Filling_NA.fit_transform(azdias1_binary))"
   ]
  },
  {
   "cell_type": "code",
   "execution_count": 45,
   "metadata": {},
   "outputs": [],
   "source": [
    "azdias1_binary_imputed.columns = azdias1_binary.columns\n",
    "azdias1_binary_imputed.index = azdias1_binary.index"
   ]
  },
  {
   "cell_type": "code",
   "execution_count": 46,
   "metadata": {},
   "outputs": [],
   "source": [
    "# Apply feature scaling to the general population demographics data.\n",
    "scaler = StandardScaler() \n",
    "azdias1_binary_scaled = pd.DataFrame(scaler.fit_transform(azdias1_binary_imputed), columns=list(azdias1_binary_imputed))"
   ]
  },
  {
   "cell_type": "code",
   "execution_count": 47,
   "metadata": {},
   "outputs": [
    {
     "data": {
      "text/html": [
       "<div>\n",
       "<style scoped>\n",
       "    .dataframe tbody tr th:only-of-type {\n",
       "        vertical-align: middle;\n",
       "    }\n",
       "\n",
       "    .dataframe tbody tr th {\n",
       "        vertical-align: top;\n",
       "    }\n",
       "\n",
       "    .dataframe thead th {\n",
       "        text-align: right;\n",
       "    }\n",
       "</style>\n",
       "<table border=\"1\" class=\"dataframe\">\n",
       "  <thead>\n",
       "    <tr style=\"text-align: right;\">\n",
       "      <th></th>\n",
       "      <th>ALTERSKATEGORIE_GROB</th>\n",
       "      <th>ANREDE_KZ</th>\n",
       "      <th>FINANZ_MINIMALIST</th>\n",
       "      <th>FINANZ_SPARER</th>\n",
       "      <th>FINANZ_VORSORGER</th>\n",
       "      <th>FINANZ_ANLEGER</th>\n",
       "      <th>FINANZ_UNAUFFAELLIGER</th>\n",
       "      <th>FINANZ_HAUSBAUER</th>\n",
       "      <th>GREEN_AVANTGARDE</th>\n",
       "      <th>HEALTH_TYP</th>\n",
       "      <th>RETOURTYP_BK_S</th>\n",
       "      <th>SEMIO_SOZ</th>\n",
       "      <th>SEMIO_FAM</th>\n",
       "      <th>SEMIO_REL</th>\n",
       "      <th>SEMIO_MAT</th>\n",
       "      <th>SEMIO_VERT</th>\n",
       "      <th>SEMIO_LUST</th>\n",
       "      <th>SEMIO_ERL</th>\n",
       "      <th>SEMIO_KULT</th>\n",
       "      <th>SEMIO_RAT</th>\n",
       "      <th>SEMIO_KRIT</th>\n",
       "      <th>SEMIO_DOM</th>\n",
       "      <th>SEMIO_KAEM</th>\n",
       "      <th>SEMIO_PFLICHT</th>\n",
       "      <th>SEMIO_TRADV</th>\n",
       "      <th>SOHO_KZ</th>\n",
       "      <th>ANZ_PERSONEN</th>\n",
       "      <th>ANZ_TITEL</th>\n",
       "      <th>HH_EINKOMMEN_SCORE</th>\n",
       "      <th>W_KEIT_KIND_HH</th>\n",
       "      <th>WOHNDAUER_2008</th>\n",
       "      <th>ANZ_HAUSHALTE_AKTIV</th>\n",
       "      <th>ANZ_HH_TITEL</th>\n",
       "      <th>KONSUMNAEHE</th>\n",
       "      <th>MIN_GEBAEUDEJAHR</th>\n",
       "      <th>OST_WEST_KZ</th>\n",
       "      <th>KBA05_ANTG1</th>\n",
       "      <th>KBA05_ANTG2</th>\n",
       "      <th>KBA05_ANTG3</th>\n",
       "      <th>KBA05_ANTG4</th>\n",
       "      <th>KBA05_GBZ</th>\n",
       "      <th>BALLRAUM</th>\n",
       "      <th>EWDICHTE</th>\n",
       "      <th>INNENSTADT</th>\n",
       "      <th>GEBAEUDETYP_RASTER</th>\n",
       "      <th>KKK</th>\n",
       "      <th>MOBI_REGIO</th>\n",
       "      <th>ONLINE_AFFINITAET</th>\n",
       "      <th>REGIOTYP</th>\n",
       "      <th>KBA13_ANZAHL_PKW</th>\n",
       "      <th>PLZ8_ANTG1</th>\n",
       "      <th>PLZ8_ANTG2</th>\n",
       "      <th>PLZ8_ANTG3</th>\n",
       "      <th>PLZ8_ANTG4</th>\n",
       "      <th>PLZ8_HHZ</th>\n",
       "      <th>PLZ8_GBZ</th>\n",
       "      <th>ARBEIT</th>\n",
       "      <th>ORTSGR_KLS9</th>\n",
       "      <th>RELAT_AB</th>\n",
       "      <th>DECADE</th>\n",
       "      <th>MOVEMENT</th>\n",
       "      <th>WEALTH</th>\n",
       "      <th>LIFE_STAGE</th>\n",
       "    </tr>\n",
       "  </thead>\n",
       "  <tbody>\n",
       "    <tr>\n",
       "      <th>0</th>\n",
       "      <td>1.214090</td>\n",
       "      <td>0.890247</td>\n",
       "      <td>0.652541</td>\n",
       "      <td>-0.557368</td>\n",
       "      <td>1.226205</td>\n",
       "      <td>-0.714543</td>\n",
       "      <td>-1.383093</td>\n",
       "      <td>-0.599690</td>\n",
       "      <td>-0.446380</td>\n",
       "      <td>-0.193813</td>\n",
       "      <td>-1.071262</td>\n",
       "      <td>0.657812</td>\n",
       "      <td>-1.721438</td>\n",
       "      <td>-1.167229</td>\n",
       "      <td>-1.806020</td>\n",
       "      <td>-0.140077</td>\n",
       "      <td>-0.191386</td>\n",
       "      <td>1.212767</td>\n",
       "      <td>0.014305</td>\n",
       "      <td>-0.686886</td>\n",
       "      <td>-0.396894</td>\n",
       "      <td>-0.239198</td>\n",
       "      <td>0.347663</td>\n",
       "      <td>-0.236251</td>\n",
       "      <td>0.193423</td>\n",
       "      <td>-0.090523</td>\n",
       "      <td>-1.181638</td>\n",
       "      <td>-0.060003</td>\n",
       "      <td>-1.856361</td>\n",
       "      <td>0.716522</td>\n",
       "      <td>0.633448</td>\n",
       "      <td>-0.413089</td>\n",
       "      <td>-0.114117</td>\n",
       "      <td>0.476228</td>\n",
       "      <td>0.197410</td>\n",
       "      <td>-0.511327</td>\n",
       "      <td>2.161247</td>\n",
       "      <td>0.053910</td>\n",
       "      <td>-0.506184</td>\n",
       "      <td>-0.432399</td>\n",
       "      <td>0.273104</td>\n",
       "      <td>-0.175985</td>\n",
       "      <td>-0.934895</td>\n",
       "      <td>0.612767</td>\n",
       "      <td>0.233709</td>\n",
       "      <td>0.241337</td>\n",
       "      <td>0.975606</td>\n",
       "      <td>-1.042907</td>\n",
       "      <td>0.582331</td>\n",
       "      <td>-0.264598</td>\n",
       "      <td>-0.346757</td>\n",
       "      <td>-0.828722</td>\n",
       "      <td>0.658941</td>\n",
       "      <td>-0.783678</td>\n",
       "      <td>-0.537922</td>\n",
       "      <td>0.539771</td>\n",
       "      <td>-1.047250</td>\n",
       "      <td>-0.849901</td>\n",
       "      <td>0.058692</td>\n",
       "      <td>-0.464482</td>\n",
       "      <td>0.446380</td>\n",
       "      <td>-1.370743</td>\n",
       "      <td>-0.552210</td>\n",
       "    </tr>\n",
       "    <tr>\n",
       "      <th>1</th>\n",
       "      <td>0.195089</td>\n",
       "      <td>-1.123283</td>\n",
       "      <td>1.348914</td>\n",
       "      <td>0.095263</td>\n",
       "      <td>0.475163</td>\n",
       "      <td>-0.714543</td>\n",
       "      <td>0.697686</td>\n",
       "      <td>-1.251432</td>\n",
       "      <td>-0.446380</td>\n",
       "      <td>-1.709933</td>\n",
       "      <td>0.994287</td>\n",
       "      <td>-0.419715</td>\n",
       "      <td>-0.125319</td>\n",
       "      <td>-0.164207</td>\n",
       "      <td>1.101579</td>\n",
       "      <td>1.341033</td>\n",
       "      <td>0.802421</td>\n",
       "      <td>-0.441949</td>\n",
       "      <td>0.551165</td>\n",
       "      <td>0.652768</td>\n",
       "      <td>0.175670</td>\n",
       "      <td>-1.447094</td>\n",
       "      <td>-0.255161</td>\n",
       "      <td>-0.236251</td>\n",
       "      <td>-1.033148</td>\n",
       "      <td>-0.090523</td>\n",
       "      <td>0.451068</td>\n",
       "      <td>-0.060003</td>\n",
       "      <td>-0.003998</td>\n",
       "      <td>0.716522</td>\n",
       "      <td>-1.826394</td>\n",
       "      <td>-0.413089</td>\n",
       "      <td>-0.114117</td>\n",
       "      <td>1.098837</td>\n",
       "      <td>1.600300</td>\n",
       "      <td>-0.511327</td>\n",
       "      <td>-0.832483</td>\n",
       "      <td>-0.781756</td>\n",
       "      <td>-0.506184</td>\n",
       "      <td>-0.432399</td>\n",
       "      <td>0.971843</td>\n",
       "      <td>-1.120504</td>\n",
       "      <td>0.780477</td>\n",
       "      <td>-0.389405</td>\n",
       "      <td>0.233709</td>\n",
       "      <td>0.241337</td>\n",
       "      <td>-0.987138</td>\n",
       "      <td>0.862408</td>\n",
       "      <td>1.186054</td>\n",
       "      <td>1.003948</td>\n",
       "      <td>0.782821</td>\n",
       "      <td>0.325799</td>\n",
       "      <td>-0.417193</td>\n",
       "      <td>-0.783678</td>\n",
       "      <td>1.507032</td>\n",
       "      <td>1.505334</td>\n",
       "      <td>-0.070507</td>\n",
       "      <td>0.474078</td>\n",
       "      <td>0.790163</td>\n",
       "      <td>-0.464482</td>\n",
       "      <td>0.446380</td>\n",
       "      <td>0.696174</td>\n",
       "      <td>0.139515</td>\n",
       "    </tr>\n",
       "    <tr>\n",
       "      <th>2</th>\n",
       "      <td>-1.842914</td>\n",
       "      <td>0.890247</td>\n",
       "      <td>-1.436580</td>\n",
       "      <td>0.747894</td>\n",
       "      <td>-0.275880</td>\n",
       "      <td>1.248291</td>\n",
       "      <td>1.391279</td>\n",
       "      <td>-0.599690</td>\n",
       "      <td>2.240243</td>\n",
       "      <td>1.322307</td>\n",
       "      <td>-1.759778</td>\n",
       "      <td>-0.958479</td>\n",
       "      <td>-0.125319</td>\n",
       "      <td>0.337304</td>\n",
       "      <td>-0.061461</td>\n",
       "      <td>-1.621186</td>\n",
       "      <td>-1.185193</td>\n",
       "      <td>-0.441949</td>\n",
       "      <td>-0.522556</td>\n",
       "      <td>1.322595</td>\n",
       "      <td>1.320797</td>\n",
       "      <td>0.968697</td>\n",
       "      <td>-0.255161</td>\n",
       "      <td>0.399085</td>\n",
       "      <td>1.419994</td>\n",
       "      <td>-0.090523</td>\n",
       "      <td>-0.365285</td>\n",
       "      <td>-0.060003</td>\n",
       "      <td>-0.621452</td>\n",
       "      <td>0.716522</td>\n",
       "      <td>-2.318363</td>\n",
       "      <td>-0.352254</td>\n",
       "      <td>-0.114117</td>\n",
       "      <td>1.098837</td>\n",
       "      <td>2.301745</td>\n",
       "      <td>-0.511327</td>\n",
       "      <td>-0.832483</td>\n",
       "      <td>-0.781756</td>\n",
       "      <td>-0.506184</td>\n",
       "      <td>-0.432399</td>\n",
       "      <td>0.971843</td>\n",
       "      <td>1.240794</td>\n",
       "      <td>-0.934895</td>\n",
       "      <td>1.614938</td>\n",
       "      <td>0.233709</td>\n",
       "      <td>0.241337</td>\n",
       "      <td>-0.987138</td>\n",
       "      <td>1.497513</td>\n",
       "      <td>0.582331</td>\n",
       "      <td>-0.538205</td>\n",
       "      <td>-0.346757</td>\n",
       "      <td>-1.983242</td>\n",
       "      <td>-0.417193</td>\n",
       "      <td>0.671075</td>\n",
       "      <td>-0.537922</td>\n",
       "      <td>-0.425793</td>\n",
       "      <td>-0.070507</td>\n",
       "      <td>0.474078</td>\n",
       "      <td>0.790163</td>\n",
       "      <td>0.894045</td>\n",
       "      <td>-2.240243</td>\n",
       "      <td>0.007201</td>\n",
       "      <td>0.139515</td>\n",
       "    </tr>\n",
       "    <tr>\n",
       "      <th>3</th>\n",
       "      <td>1.214090</td>\n",
       "      <td>0.890247</td>\n",
       "      <td>0.652541</td>\n",
       "      <td>-1.209999</td>\n",
       "      <td>1.226205</td>\n",
       "      <td>-1.368822</td>\n",
       "      <td>-1.383093</td>\n",
       "      <td>0.703794</td>\n",
       "      <td>-0.446380</td>\n",
       "      <td>-0.193813</td>\n",
       "      <td>0.994287</td>\n",
       "      <td>0.657812</td>\n",
       "      <td>-1.189398</td>\n",
       "      <td>-1.167229</td>\n",
       "      <td>0.520059</td>\n",
       "      <td>-1.127483</td>\n",
       "      <td>1.299324</td>\n",
       "      <td>1.212767</td>\n",
       "      <td>-1.596277</td>\n",
       "      <td>-0.686886</td>\n",
       "      <td>0.748233</td>\n",
       "      <td>0.364750</td>\n",
       "      <td>0.950487</td>\n",
       "      <td>-0.871588</td>\n",
       "      <td>-0.419862</td>\n",
       "      <td>-0.090523</td>\n",
       "      <td>-0.365285</td>\n",
       "      <td>-0.060003</td>\n",
       "      <td>0.613457</td>\n",
       "      <td>0.716522</td>\n",
       "      <td>-1.826394</td>\n",
       "      <td>-0.413089</td>\n",
       "      <td>-0.114117</td>\n",
       "      <td>-1.391599</td>\n",
       "      <td>-0.679396</td>\n",
       "      <td>-0.511327</td>\n",
       "      <td>-0.832483</td>\n",
       "      <td>0.889576</td>\n",
       "      <td>1.735848</td>\n",
       "      <td>-0.432399</td>\n",
       "      <td>-0.425636</td>\n",
       "      <td>-1.592763</td>\n",
       "      <td>1.352268</td>\n",
       "      <td>-1.391577</td>\n",
       "      <td>-0.808768</td>\n",
       "      <td>0.241337</td>\n",
       "      <td>-0.332890</td>\n",
       "      <td>-0.407802</td>\n",
       "      <td>1.186054</td>\n",
       "      <td>1.735228</td>\n",
       "      <td>-0.346757</td>\n",
       "      <td>0.325799</td>\n",
       "      <td>-0.417193</td>\n",
       "      <td>-0.783678</td>\n",
       "      <td>-0.537922</td>\n",
       "      <td>-0.425793</td>\n",
       "      <td>0.906236</td>\n",
       "      <td>1.356731</td>\n",
       "      <td>1.521634</td>\n",
       "      <td>-1.143745</td>\n",
       "      <td>0.446380</td>\n",
       "      <td>0.696174</td>\n",
       "      <td>-1.243934</td>\n",
       "    </tr>\n",
       "    <tr>\n",
       "      <th>4</th>\n",
       "      <td>-1.842914</td>\n",
       "      <td>0.890247</td>\n",
       "      <td>0.652541</td>\n",
       "      <td>0.095263</td>\n",
       "      <td>-1.777965</td>\n",
       "      <td>0.594013</td>\n",
       "      <td>1.391279</td>\n",
       "      <td>-1.251432</td>\n",
       "      <td>-0.446380</td>\n",
       "      <td>1.322307</td>\n",
       "      <td>-1.759778</td>\n",
       "      <td>-1.497242</td>\n",
       "      <td>-0.125319</td>\n",
       "      <td>0.337304</td>\n",
       "      <td>-0.061461</td>\n",
       "      <td>-1.127483</td>\n",
       "      <td>-1.185193</td>\n",
       "      <td>-0.441949</td>\n",
       "      <td>0.551165</td>\n",
       "      <td>1.992422</td>\n",
       "      <td>-0.396894</td>\n",
       "      <td>-0.239198</td>\n",
       "      <td>-0.255161</td>\n",
       "      <td>1.034422</td>\n",
       "      <td>1.419994</td>\n",
       "      <td>-0.090523</td>\n",
       "      <td>-1.181638</td>\n",
       "      <td>-0.060003</td>\n",
       "      <td>0.613457</td>\n",
       "      <td>0.716522</td>\n",
       "      <td>-2.318363</td>\n",
       "      <td>-0.413089</td>\n",
       "      <td>-0.114117</td>\n",
       "      <td>1.098837</td>\n",
       "      <td>-0.328674</td>\n",
       "      <td>-0.511327</td>\n",
       "      <td>1.412814</td>\n",
       "      <td>1.725242</td>\n",
       "      <td>-0.506184</td>\n",
       "      <td>-0.432399</td>\n",
       "      <td>-0.425636</td>\n",
       "      <td>0.768534</td>\n",
       "      <td>-0.934895</td>\n",
       "      <td>0.612767</td>\n",
       "      <td>0.233709</td>\n",
       "      <td>0.241337</td>\n",
       "      <td>0.321358</td>\n",
       "      <td>0.227303</td>\n",
       "      <td>-0.021392</td>\n",
       "      <td>0.431859</td>\n",
       "      <td>0.782821</td>\n",
       "      <td>0.325799</td>\n",
       "      <td>-0.417193</td>\n",
       "      <td>-0.783678</td>\n",
       "      <td>-0.537922</td>\n",
       "      <td>0.539771</td>\n",
       "      <td>-2.023993</td>\n",
       "      <td>-1.291228</td>\n",
       "      <td>-1.404249</td>\n",
       "      <td>0.894045</td>\n",
       "      <td>0.446380</td>\n",
       "      <td>0.696174</td>\n",
       "      <td>-1.243934</td>\n",
       "    </tr>\n",
       "  </tbody>\n",
       "</table>\n",
       "</div>"
      ],
      "text/plain": [
       "   ALTERSKATEGORIE_GROB  ANREDE_KZ  FINANZ_MINIMALIST  FINANZ_SPARER  \\\n",
       "0              1.214090   0.890247           0.652541      -0.557368   \n",
       "1              0.195089  -1.123283           1.348914       0.095263   \n",
       "2             -1.842914   0.890247          -1.436580       0.747894   \n",
       "3              1.214090   0.890247           0.652541      -1.209999   \n",
       "4             -1.842914   0.890247           0.652541       0.095263   \n",
       "\n",
       "   FINANZ_VORSORGER  FINANZ_ANLEGER  FINANZ_UNAUFFAELLIGER  FINANZ_HAUSBAUER  \\\n",
       "0          1.226205       -0.714543              -1.383093         -0.599690   \n",
       "1          0.475163       -0.714543               0.697686         -1.251432   \n",
       "2         -0.275880        1.248291               1.391279         -0.599690   \n",
       "3          1.226205       -1.368822              -1.383093          0.703794   \n",
       "4         -1.777965        0.594013               1.391279         -1.251432   \n",
       "\n",
       "   GREEN_AVANTGARDE  HEALTH_TYP  RETOURTYP_BK_S  SEMIO_SOZ  SEMIO_FAM  \\\n",
       "0         -0.446380   -0.193813       -1.071262   0.657812  -1.721438   \n",
       "1         -0.446380   -1.709933        0.994287  -0.419715  -0.125319   \n",
       "2          2.240243    1.322307       -1.759778  -0.958479  -0.125319   \n",
       "3         -0.446380   -0.193813        0.994287   0.657812  -1.189398   \n",
       "4         -0.446380    1.322307       -1.759778  -1.497242  -0.125319   \n",
       "\n",
       "   SEMIO_REL  SEMIO_MAT  SEMIO_VERT  SEMIO_LUST  SEMIO_ERL  SEMIO_KULT  \\\n",
       "0  -1.167229  -1.806020   -0.140077   -0.191386   1.212767    0.014305   \n",
       "1  -0.164207   1.101579    1.341033    0.802421  -0.441949    0.551165   \n",
       "2   0.337304  -0.061461   -1.621186   -1.185193  -0.441949   -0.522556   \n",
       "3  -1.167229   0.520059   -1.127483    1.299324   1.212767   -1.596277   \n",
       "4   0.337304  -0.061461   -1.127483   -1.185193  -0.441949    0.551165   \n",
       "\n",
       "   SEMIO_RAT  SEMIO_KRIT  SEMIO_DOM  SEMIO_KAEM  SEMIO_PFLICHT  SEMIO_TRADV  \\\n",
       "0  -0.686886   -0.396894  -0.239198    0.347663      -0.236251     0.193423   \n",
       "1   0.652768    0.175670  -1.447094   -0.255161      -0.236251    -1.033148   \n",
       "2   1.322595    1.320797   0.968697   -0.255161       0.399085     1.419994   \n",
       "3  -0.686886    0.748233   0.364750    0.950487      -0.871588    -0.419862   \n",
       "4   1.992422   -0.396894  -0.239198   -0.255161       1.034422     1.419994   \n",
       "\n",
       "    SOHO_KZ  ANZ_PERSONEN  ANZ_TITEL  HH_EINKOMMEN_SCORE  W_KEIT_KIND_HH  \\\n",
       "0 -0.090523     -1.181638  -0.060003           -1.856361        0.716522   \n",
       "1 -0.090523      0.451068  -0.060003           -0.003998        0.716522   \n",
       "2 -0.090523     -0.365285  -0.060003           -0.621452        0.716522   \n",
       "3 -0.090523     -0.365285  -0.060003            0.613457        0.716522   \n",
       "4 -0.090523     -1.181638  -0.060003            0.613457        0.716522   \n",
       "\n",
       "   WOHNDAUER_2008  ANZ_HAUSHALTE_AKTIV  ANZ_HH_TITEL  KONSUMNAEHE  \\\n",
       "0        0.633448            -0.413089     -0.114117     0.476228   \n",
       "1       -1.826394            -0.413089     -0.114117     1.098837   \n",
       "2       -2.318363            -0.352254     -0.114117     1.098837   \n",
       "3       -1.826394            -0.413089     -0.114117    -1.391599   \n",
       "4       -2.318363            -0.413089     -0.114117     1.098837   \n",
       "\n",
       "   MIN_GEBAEUDEJAHR  OST_WEST_KZ  KBA05_ANTG1  KBA05_ANTG2  KBA05_ANTG3  \\\n",
       "0          0.197410    -0.511327     2.161247     0.053910    -0.506184   \n",
       "1          1.600300    -0.511327    -0.832483    -0.781756    -0.506184   \n",
       "2          2.301745    -0.511327    -0.832483    -0.781756    -0.506184   \n",
       "3         -0.679396    -0.511327    -0.832483     0.889576     1.735848   \n",
       "4         -0.328674    -0.511327     1.412814     1.725242    -0.506184   \n",
       "\n",
       "   KBA05_ANTG4  KBA05_GBZ  BALLRAUM  EWDICHTE  INNENSTADT  GEBAEUDETYP_RASTER  \\\n",
       "0    -0.432399   0.273104 -0.175985 -0.934895    0.612767            0.233709   \n",
       "1    -0.432399   0.971843 -1.120504  0.780477   -0.389405            0.233709   \n",
       "2    -0.432399   0.971843  1.240794 -0.934895    1.614938            0.233709   \n",
       "3    -0.432399  -0.425636 -1.592763  1.352268   -1.391577           -0.808768   \n",
       "4    -0.432399  -0.425636  0.768534 -0.934895    0.612767            0.233709   \n",
       "\n",
       "        KKK  MOBI_REGIO  ONLINE_AFFINITAET  REGIOTYP  KBA13_ANZAHL_PKW  \\\n",
       "0  0.241337    0.975606          -1.042907  0.582331         -0.264598   \n",
       "1  0.241337   -0.987138           0.862408  1.186054          1.003948   \n",
       "2  0.241337   -0.987138           1.497513  0.582331         -0.538205   \n",
       "3  0.241337   -0.332890          -0.407802  1.186054          1.735228   \n",
       "4  0.241337    0.321358           0.227303 -0.021392          0.431859   \n",
       "\n",
       "   PLZ8_ANTG1  PLZ8_ANTG2  PLZ8_ANTG3  PLZ8_ANTG4  PLZ8_HHZ  PLZ8_GBZ  \\\n",
       "0   -0.346757   -0.828722    0.658941   -0.783678 -0.537922  0.539771   \n",
       "1    0.782821    0.325799   -0.417193   -0.783678  1.507032  1.505334   \n",
       "2   -0.346757   -1.983242   -0.417193    0.671075 -0.537922 -0.425793   \n",
       "3   -0.346757    0.325799   -0.417193   -0.783678 -0.537922 -0.425793   \n",
       "4    0.782821    0.325799   -0.417193   -0.783678 -0.537922  0.539771   \n",
       "\n",
       "     ARBEIT  ORTSGR_KLS9  RELAT_AB    DECADE  MOVEMENT    WEALTH  LIFE_STAGE  \n",
       "0 -1.047250    -0.849901  0.058692 -0.464482  0.446380 -1.370743   -0.552210  \n",
       "1 -0.070507     0.474078  0.790163 -0.464482  0.446380  0.696174    0.139515  \n",
       "2 -0.070507     0.474078  0.790163  0.894045 -2.240243  0.007201    0.139515  \n",
       "3  0.906236     1.356731  1.521634 -1.143745  0.446380  0.696174   -1.243934  \n",
       "4 -2.023993    -1.291228 -1.404249  0.894045  0.446380  0.696174   -1.243934  "
      ]
     },
     "execution_count": 47,
     "metadata": {},
     "output_type": "execute_result"
    }
   ],
   "source": [
    "azdias1_binary_scaled.head()"
   ]
  },
  {
   "cell_type": "markdown",
   "metadata": {},
   "source": [
    "### Discussion 2.1: Apply Feature Scaling\n",
    "\n",
    "I decided to use “most frequent” for the Imputer’s strategy to replace all missing values. I use StandardScaler to scale all the features."
   ]
  },
  {
   "cell_type": "markdown",
   "metadata": {},
   "source": [
    "### Step 2.2: Perform Dimensionality Reduction\n",
    "\n",
    "On your scaled data, you are now ready to apply dimensionality reduction techniques.\n",
    "\n",
    "- Use sklearn's [PCA](http://scikit-learn.org/stable/modules/generated/sklearn.decomposition.PCA.html) class to apply principal component analysis on the data, thus finding the vectors of maximal variance in the data. To start, you should not set any parameters (so all components are computed) or set a number of components that is at least half the number of features (so there's enough features to see the general trend in variability).\n",
    "- Check out the ratio of variance explained by each principal component as well as the cumulative variance explained. Try plotting the cumulative or sequential values using matplotlib's [`plot()`](https://matplotlib.org/api/_as_gen/matplotlib.pyplot.plot.html) function. Based on what you find, select a value for the number of transformed features you'll retain for the clustering part of the project.\n",
    "- Once you've made a choice for the number of components to keep, make sure you re-fit a PCA instance to perform the decided-on transformation."
   ]
  },
  {
   "cell_type": "code",
   "execution_count": 48,
   "metadata": {},
   "outputs": [
    {
     "data": {
      "text/plain": [
       "PCA(copy=True, iterated_power='auto', n_components=None, random_state=None,\n",
       "  svd_solver='auto', tol=0.0, whiten=False)"
      ]
     },
     "execution_count": 48,
     "metadata": {},
     "output_type": "execute_result"
    }
   ],
   "source": [
    "# Apply PCA to the data.\n",
    "pca = PCA()\n",
    "pca.fit(azdias1_binary_scaled)"
   ]
  },
  {
   "cell_type": "code",
   "execution_count": 49,
   "metadata": {},
   "outputs": [
    {
     "data": {
      "image/png": "[encoded data removed]",
      "text/plain": [
       "<matplotlib.figure.Figure at 0x7f28b9bc84e0>"
      ]
     },
     "metadata": {
      "needs_background": "light"
     },
     "output_type": "display_data"
    }
   ],
   "source": [
    "# Investigate the variance accounted for by each principal component.\n",
    "plt.bar(range(len(pca.explained_variance_ratio_)), pca.explained_variance_ratio_)\n",
    "plt.title(\"Variance explained by each component\")\n",
    "plt.xlabel(\"Principal component\")\n",
    "plt.ylabel(\"Ratio of variance explained\")\n",
    "plt.show()"
   ]
  },
  {
   "cell_type": "code",
   "execution_count": 50,
   "metadata": {},
   "outputs": [
    {
     "data": {
      "image/png": "[encoded data removed]",
      "text/plain": [
       "<matplotlib.figure.Figure at 0x7f28bcf72eb8>"
      ]
     },
     "metadata": {
      "needs_background": "light"
     },
     "output_type": "display_data"
    }
   ],
   "source": [
    "plt.plot(range(len(pca.explained_variance_ratio_)),np.cumsum(pca.explained_variance_ratio_), '-')\n",
    "plt.title(\"Cumulative Variance Explained\")\n",
    "plt.xlabel(\"Number of Components\")\n",
    "plt.ylabel(\"Ratio of variance explained\")\n",
    "plt.show()"
   ]
  },
  {
   "cell_type": "code",
   "execution_count": 51,
   "metadata": {},
   "outputs": [],
   "source": [
    "#https://jakevdp.github.io/PythonDataScienceHandbook/05.09-principal-component-analysis.html\n",
    "#pca = PCA(0.93).fit(azdias1_binary_scaled) #40 components\n",
    "#pca.n_components_"
   ]
  },
  {
   "cell_type": "code",
   "execution_count": 52,
   "metadata": {},
   "outputs": [],
   "source": [
    "# Re-apply PCA to the data while selecting for number of components to retain.\n",
    "pca_40 = PCA(n_components=40)\n",
    "azdias_pca = pca_40.fit_transform(azdias1_binary_scaled)"
   ]
  },
  {
   "cell_type": "markdown",
   "metadata": {},
   "source": [
    "### Discussion 2.2: Perform Dimensionality Reduction\n",
    "\n",
    "I retained 40 principal components as it explains about 93% of the features variance"
   ]
  },
  {
   "cell_type": "markdown",
   "metadata": {},
   "source": [
    "### Step 2.3: Interpret Principal Components\n",
    "\n",
    "Now that we have our transformed principal components, it's a nice idea to check out the weight of each variable on the first few components to see if they can be interpreted in some fashion.\n",
    "\n",
    "As a reminder, each principal component is a unit vector that points in the direction of highest variance (after accounting for the variance captured by earlier principal components). The further a weight is from zero, the more the principal component is in the direction of the corresponding feature. If two features have large weights of the same sign (both positive or both negative), then increases in one tend expect to be associated with increases in the other. To contrast, features with different signs can be expected to show a negative correlation: increases in one variable should result in a decrease in the other.\n",
    "\n",
    "- To investigate the features, you should map each weight to their corresponding feature name, then sort the features according to weight. The most interesting features for each principal component, then, will be those at the beginning and end of the sorted list. Use the data dictionary document to help you understand these most prominent features, their relationships, and what a positive or negative value on the principal component might indicate.\n",
    "- You should investigate and interpret feature associations from the first three principal components in this substep. To help facilitate this, you should write a function that you can call at any time to print the sorted list of feature weights, for the *i*-th principal component. This might come in handy in the next step of the project, when you interpret the tendencies of the discovered clusters."
   ]
  },
  {
   "cell_type": "code",
   "execution_count": 53,
   "metadata": {},
   "outputs": [],
   "source": [
    "# Map weights for the first principal component to corresponding feature names\n",
    "# and then print the linked values, sorted by weight.\n",
    "# HINT: Try defining a function here or in a new cell that you can reuse in the\n",
    "# other cells.\n",
    "def pca_weights(pca, i):\n",
    "    df = pd.DataFrame(pca.components_, columns=list(azdias1_binary_scaled.columns))\n",
    "    weights = df.iloc[i].sort_values(ascending=False)\n",
    "    return weights\n"
   ]
  },
  {
   "cell_type": "code",
   "execution_count": 54,
   "metadata": {},
   "outputs": [
    {
     "name": "stdout",
     "output_type": "stream",
     "text": [
      "PLZ8_ANTG3               0.243846\n",
      "HH_EINKOMMEN_SCORE       0.230997\n",
      "PLZ8_ANTG4               0.230584\n",
      "EWDICHTE                 0.225843\n",
      "WEALTH                   0.224398\n",
      "FINANZ_HAUSBAUER         0.223653\n",
      "ORTSGR_KLS9              0.220011\n",
      "PLZ8_ANTG2               0.179168\n",
      "KBA05_ANTG4              0.174792\n",
      "RELAT_AB                 0.157250\n",
      "ANZ_HAUSHALTE_AKTIV      0.151461\n",
      "ARBEIT                   0.143722\n",
      "KBA05_ANTG3              0.141817\n",
      "W_KEIT_KIND_HH           0.110215\n",
      "SEMIO_KAEM               0.105732\n",
      "SEMIO_LUST               0.093732\n",
      "SEMIO_DOM                0.078021\n",
      "MOVEMENT                 0.076698\n",
      "ANREDE_KZ                0.072145\n",
      "PLZ8_HHZ                 0.070581\n",
      "RETOURTYP_BK_S           0.065925\n",
      "SEMIO_PFLICHT            0.063555\n",
      "FINANZ_SPARER            0.063138\n",
      "SEMIO_ERL                0.058324\n",
      "KBA05_ANTG2              0.056033\n",
      "SEMIO_REL                0.053929\n",
      "SEMIO_KRIT               0.049312\n",
      "ANZ_HH_TITEL             0.046910\n",
      "DECADE                   0.035018\n",
      "SEMIO_RAT                0.032287\n",
      "ALTERSKATEGORIE_GROB     0.012154\n",
      "OST_WEST_KZ              0.010051\n",
      "FINANZ_ANLEGER           0.006612\n",
      "ANZ_TITEL                0.002726\n",
      "SOHO_KZ                 -0.001246\n",
      "KKK                     -0.004905\n",
      "FINANZ_UNAUFFAELLIGER   -0.006047\n",
      "FINANZ_VORSORGER        -0.006341\n",
      "SEMIO_FAM               -0.008281\n",
      "WOHNDAUER_2008          -0.009006\n",
      "REGIOTYP                -0.014826\n",
      "SEMIO_SOZ               -0.017068\n",
      "HEALTH_TYP              -0.023424\n",
      "SEMIO_MAT               -0.024902\n",
      "SEMIO_KULT              -0.027540\n",
      "KBA13_ANZAHL_PKW        -0.056411\n",
      "SEMIO_TRADV             -0.060653\n",
      "GREEN_AVANTGARDE        -0.076698\n",
      "LIFE_STAGE              -0.090892\n",
      "ANZ_PERSONEN            -0.097462\n",
      "SEMIO_VERT              -0.116339\n",
      "GEBAEUDETYP_RASTER      -0.132189\n",
      "MIN_GEBAEUDEJAHR        -0.134833\n",
      "ONLINE_AFFINITAET       -0.138273\n",
      "KBA05_ANTG1             -0.141313\n",
      "PLZ8_GBZ                -0.144638\n",
      "MOBI_REGIO              -0.144870\n",
      "BALLRAUM                -0.148379\n",
      "INNENSTADT              -0.180752\n",
      "FINANZ_MINIMALIST       -0.193017\n",
      "KONSUMNAEHE             -0.197956\n",
      "PLZ8_ANTG1              -0.223243\n",
      "KBA05_GBZ               -0.235580\n",
      "Name: 0, dtype: float64\n"
     ]
    }
   ],
   "source": [
    "pca_weight_1 = pca_weights(pca_40, 0)\n",
    "print (pca_weight_1)"
   ]
  },
  {
   "cell_type": "code",
   "execution_count": 55,
   "metadata": {},
   "outputs": [
    {
     "name": "stdout",
     "output_type": "stream",
     "text": [
      "FINANZ_VORSORGER         0.280610\n",
      "ALTERSKATEGORIE_GROB     0.276860\n",
      "SEMIO_ERL                0.221206\n",
      "FINANZ_MINIMALIST        0.166645\n",
      "SEMIO_LUST               0.166500\n",
      "RETOURTYP_BK_S           0.144206\n",
      "SEMIO_KAEM               0.095635\n",
      "SEMIO_KRIT               0.087506\n",
      "W_KEIT_KIND_HH           0.086088\n",
      "ANREDE_KZ                0.084568\n",
      "WOHNDAUER_2008           0.070917\n",
      "LIFE_STAGE               0.068221\n",
      "SEMIO_DOM                0.061216\n",
      "KBA05_ANTG1              0.038006\n",
      "FINANZ_HAUSBAUER         0.036507\n",
      "MOBI_REGIO               0.033320\n",
      "PLZ8_ANTG1               0.026459\n",
      "ANZ_HH_TITEL             0.019010\n",
      "KBA05_ANTG4              0.018652\n",
      "INNENSTADT               0.015563\n",
      "ANZ_HAUSHALTE_AKTIV      0.013433\n",
      "BALLRAUM                 0.012040\n",
      "PLZ8_GBZ                 0.011990\n",
      "KONSUMNAEHE              0.009409\n",
      "GREEN_AVANTGARDE         0.007442\n",
      "OST_WEST_KZ              0.007439\n",
      "GEBAEUDETYP_RASTER       0.005194\n",
      "ANZ_TITEL                0.003457\n",
      "SOHO_KZ                 -0.000533\n",
      "ARBEIT                  -0.002012\n",
      "KBA05_ANTG2             -0.004112\n",
      "KBA13_ANZAHL_PKW        -0.005190\n",
      "MOVEMENT                -0.007442\n",
      "PLZ8_HHZ                -0.007516\n",
      "RELAT_AB                -0.007715\n",
      "KBA05_GBZ               -0.010245\n",
      "WEALTH                  -0.012102\n",
      "HH_EINKOMMEN_SCORE      -0.014918\n",
      "EWDICHTE                -0.014983\n",
      "ORTSGR_KLS9             -0.016203\n",
      "PLZ8_ANTG4              -0.016488\n",
      "KKK                     -0.017473\n",
      "REGIOTYP                -0.019862\n",
      "PLZ8_ANTG2              -0.019863\n",
      "KBA05_ANTG3             -0.020873\n",
      "PLZ8_ANTG3              -0.021892\n",
      "SEMIO_VERT              -0.038156\n",
      "MIN_GEBAEUDEJAHR        -0.040828\n",
      "ANZ_PERSONEN            -0.048357\n",
      "HEALTH_TYP              -0.072614\n",
      "SEMIO_SOZ               -0.119056\n",
      "ONLINE_AFFINITAET       -0.149240\n",
      "SEMIO_RAT               -0.183982\n",
      "SEMIO_MAT               -0.199230\n",
      "SEMIO_PFLICHT           -0.211869\n",
      "SEMIO_FAM               -0.218893\n",
      "SEMIO_TRADV             -0.221456\n",
      "FINANZ_ANLEGER          -0.234444\n",
      "SEMIO_KULT              -0.235128\n",
      "DECADE                  -0.248303\n",
      "FINANZ_UNAUFFAELLIGER   -0.261736\n",
      "SEMIO_REL               -0.272458\n",
      "FINANZ_SPARER           -0.296094\n",
      "Name: 1, dtype: float64\n"
     ]
    }
   ],
   "source": [
    "# Map weights for the second principal component to corresponding feature names\n",
    "# and then print the linked values, sorted by weight.\n",
    "pca_weight_2 = pca_weights(pca_40, 1)\n",
    "print (pca_weight_2)"
   ]
  },
  {
   "cell_type": "code",
   "execution_count": 56,
   "metadata": {},
   "outputs": [
    {
     "name": "stdout",
     "output_type": "stream",
     "text": [
      "SEMIO_VERT               0.327605\n",
      "SEMIO_SOZ                0.248770\n",
      "SEMIO_FAM                0.243287\n",
      "SEMIO_KULT               0.238326\n",
      "FINANZ_MINIMALIST        0.139973\n",
      "FINANZ_VORSORGER         0.116671\n",
      "RETOURTYP_BK_S           0.093612\n",
      "SEMIO_MAT                0.086228\n",
      "W_KEIT_KIND_HH           0.079810\n",
      "ALTERSKATEGORIE_GROB     0.072476\n",
      "PLZ8_ANTG3               0.057011\n",
      "PLZ8_ANTG4               0.055240\n",
      "ORTSGR_KLS9              0.051103\n",
      "ARBEIT                   0.049627\n",
      "WEALTH                   0.049490\n",
      "SEMIO_REL                0.049245\n",
      "EWDICHTE                 0.048378\n",
      "RELAT_AB                 0.042791\n",
      "PLZ8_ANTG2               0.040132\n",
      "SEMIO_LUST               0.039712\n",
      "KBA05_ANTG4              0.039704\n",
      "ANZ_HAUSHALTE_AKTIV      0.033531\n",
      "KBA05_ANTG3              0.027415\n",
      "OST_WEST_KZ              0.025969\n",
      "WOHNDAUER_2008           0.019385\n",
      "ANZ_HH_TITEL             0.015920\n",
      "GREEN_AVANTGARDE         0.015411\n",
      "HH_EINKOMMEN_SCORE       0.015239\n",
      "ANZ_TITEL                0.006918\n",
      "KBA05_ANTG2              0.006202\n",
      "PLZ8_HHZ                 0.002466\n",
      "SOHO_KZ                 -0.001458\n",
      "REGIOTYP                -0.003666\n",
      "KKK                     -0.005454\n",
      "FINANZ_HAUSBAUER        -0.009898\n",
      "MOVEMENT                -0.015411\n",
      "LIFE_STAGE              -0.016914\n",
      "KBA13_ANZAHL_PKW        -0.021793\n",
      "MOBI_REGIO              -0.026934\n",
      "KBA05_ANTG1             -0.028013\n",
      "MIN_GEBAEUDEJAHR        -0.028779\n",
      "BALLRAUM                -0.035545\n",
      "GEBAEUDETYP_RASTER      -0.039423\n",
      "KONSUMNAEHE             -0.044523\n",
      "INNENSTADT              -0.045892\n",
      "KBA05_GBZ               -0.048630\n",
      "PLZ8_GBZ                -0.048963\n",
      "ANZ_PERSONEN            -0.056086\n",
      "SEMIO_TRADV             -0.059074\n",
      "PLZ8_ANTG1              -0.061534\n",
      "HEALTH_TYP              -0.074896\n",
      "ONLINE_AFFINITAET       -0.077000\n",
      "SEMIO_PFLICHT           -0.086946\n",
      "DECADE                  -0.117296\n",
      "FINANZ_SPARER           -0.123830\n",
      "FINANZ_UNAUFFAELLIGER   -0.125909\n",
      "SEMIO_ERL               -0.187342\n",
      "FINANZ_ANLEGER          -0.196524\n",
      "SEMIO_RAT               -0.211137\n",
      "SEMIO_KRIT              -0.292624\n",
      "SEMIO_DOM               -0.315243\n",
      "SEMIO_KAEM              -0.318217\n",
      "ANREDE_KZ               -0.361478\n",
      "Name: 2, dtype: float64\n"
     ]
    }
   ],
   "source": [
    "# Map weights for the third principal component to corresponding feature names\n",
    "# and then print the linked values, sorted by weight.\n",
    "pca_weight_3 = pca_weights(pca_40, 2)\n",
    "print (pca_weight_3)"
   ]
  },
  {
   "cell_type": "code",
   "execution_count": 57,
   "metadata": {},
   "outputs": [],
   "source": [
    "#pca_weight_40 = pca_weights(pca_40, 39)\n",
    "#print (pca_weight_40)"
   ]
  },
  {
   "cell_type": "markdown",
   "metadata": {},
   "source": [
    "### Discussion 2.3: Interpret Principal Components\n",
    "\n",
    "COMPONENT 1: Correlation between number of family in PLZ8 region, place to live, and wealth \n",
    "\n",
    "Five features with higher positive weights: \n",
    "1. PLZ8_ANTG3 - Number of 6-10 family houses in the PLZ8 region \n",
    "2. HH_EINKOMMEN_SCORE - Estimated household net income \n",
    "3. PLZ8_ANTG4 - Number of 10+ family houses in the PLZ8 region   \n",
    "4. EWDICHTE - Density of households per square kilometer \n",
    "5. WEALTH - Wealth / Life Stage Typology, mapped to international code\n",
    "\n",
    "Five features with higher negative weights: \n",
    "1. KBA05_GBZ - Number of buildings in the microcell            \n",
    "2. PLZ8_ANTG1 - Number of 1-2 family houses in the PLZ8 region \n",
    "3. KONSUMNAEHE - Distance from building to point of sale (PoS) \n",
    "4. FINANZ_MINIMALIST-Financial typology:low financial interest \n",
    "5. INNENSTADT - Distance to city center (downtown)\n",
    "\n",
    "Interpretation: \n",
    "\n",
    "1. There are positive correlations among number of 6+ family houses in PLZ8 region, estimated household net income, density of households per square kilometer, and wealth / life stage typology.\n",
    "2. Above features are negatively correlated to number of buildings in the microcell, number of 1-2 family houses in PLZ8 region, distance to shopping area, low financial interest and distance to city centre (downtown)\n",
    "\n",
    "The distance from building to shopping area and city centre is insignificant for number of 6+ family houses in PLZ8 region; they also have higher financial interest than number of 1-2 family house in the same region.\n",
    "\n",
    "COMPONENT 2: Correlation of financial typology to age and personality\n",
    "\n",
    "Two features with higher positive weights: \n",
    "1. FINANZ_VORSORGER - Financial typology: be prepared \n",
    "2. ALTERSKATEGORIE_GROB - Estimated age based on given name analysis\n",
    "\n",
    "Two features with higher negative weights: \n",
    "1. FINANZ_SPARER - Financial typology: money-saver \n",
    "2. SEMIO_REL - religious\n",
    "\n",
    "Interpretation: \n",
    "1. Financial typology “be prepared” (FINANZ_VORSORGER) is positively correlated to age (ALTERSKATEGORIE_GROB). Both is negatively correlated to financial typology “money-saver” and religious personality. \n",
    "\n",
    "COMPONENT 3: Correlation among different personality types to financial typology and gender\n",
    "\n",
    "Five features with higher positive weights: \n",
    "1. SEMIO_VERT - Personality typology: dreamful     \n",
    "2. SEMIO_SOZ - Personality typology: socially-minded \n",
    "3. SEMIO_FAM - Personality typology: family-minded  \n",
    "4. SEMIO_KULT - Personality typology: cultural-minded  \n",
    "5. FINANZ_MINIMALIST - Financial typology: low financial interest\n",
    "\n",
    "Five features with higher negative weights: \n",
    "1. ANREDE_KZ-Gender \n",
    "2. SEMIO_KAEM-Personality typology: combative attitude \n",
    "3. SEMIO_DOM-Personality typology: dominant-minded \n",
    "4. SEMIO_KRIT-Personality typology: critical-minded \n",
    "5. SEMIO_RAT-Personality typology: rational\n",
    "\n",
    "Interpretation:\n",
    "1. Personality type of “dreamful”, “social-minded”, “family-minded” and “cultural-minded” have positive correlation among themselves; these personality types have low financial interest\n",
    "2. Personality type of “combative attitude”, “dominant-minded”, “critical-minded” and “rational have high correlation among themselves and gender. They have negative correlation to all features in point 1."
   ]
  },
  {
   "cell_type": "markdown",
   "metadata": {},
   "source": [
    "## Step 3: Clustering\n",
    "\n",
    "### Step 3.1: Apply Clustering to General Population\n",
    "\n",
    "You've assessed and cleaned the demographics data, then scaled and transformed them. Now, it's time to see how the data clusters in the principal components space. In this substep, you will apply k-means clustering to the dataset and use the average within-cluster distances from each point to their assigned cluster's centroid to decide on a number of clusters to keep.\n",
    "\n",
    "- Use sklearn's [KMeans](http://scikit-learn.org/stable/modules/generated/sklearn.cluster.KMeans.html#sklearn.cluster.KMeans) class to perform k-means clustering on the PCA-transformed data.\n",
    "- Then, compute the average difference from each point to its assigned cluster's center. **Hint**: The KMeans object's `.score()` method might be useful here, but note that in sklearn, scores tend to be defined so that larger is better. Try applying it to a small, toy dataset, or use an internet search to help your understanding.\n",
    "- Perform the above two steps for a number of different cluster counts. You can then see how the average distance decreases with an increasing number of clusters. However, each additional cluster provides a smaller net benefit. Use this fact to select a final number of clusters in which to group the data. **Warning**: because of the large size of the dataset, it can take a long time for the algorithm to resolve. The more clusters to fit, the longer the algorithm will take. You should test for cluster counts through at least 10 clusters to get the full picture, but you shouldn't need to test for a number of clusters above about 30.\n",
    "- Once you've selected a final number of clusters to use, re-fit a KMeans instance to perform the clustering operation. Make sure that you also obtain the cluster assignments for the general demographics data, since you'll be using them in the final Step 3.3."
   ]
  },
  {
   "cell_type": "code",
   "execution_count": 58,
   "metadata": {},
   "outputs": [],
   "source": [
    "def k_mean_score(data, n_cluster):\n",
    "    k_means = KMeans(n_clusters = n_cluster)\n",
    "    model = k_means.fit(data)\n",
    "    score = np.abs(model.score(data))\n",
    "    return score"
   ]
  },
  {
   "cell_type": "code",
   "execution_count": 59,
   "metadata": {},
   "outputs": [],
   "source": [
    "# Over a number of different cluster counts...\n",
    "# run k-means clustering on the data and...\n",
    "# compute the average within-cluster distances.\n",
    "\n",
    "scores = []\n",
    "ks = list(range(1,30))\n",
    "for k in ks:\n",
    "    scores.append(k_mean_score(azdias_pca, k))   "
   ]
  },
  {
   "cell_type": "code",
   "execution_count": 60,
   "metadata": {},
   "outputs": [
    {
     "data": {
      "text/plain": [
       "Text(0,0.5,'SSE')"
      ]
     },
     "execution_count": 60,
     "metadata": {},
     "output_type": "execute_result"
    },
    {
     "data": {
      "image/png": "[encoded data removed]",
      "text/plain": [
       "<matplotlib.figure.Figure at 0x7f28b9d91160>"
      ]
     },
     "metadata": {
      "needs_background": "light"
     },
     "output_type": "display_data"
    }
   ],
   "source": [
    "# Investigate the change in within-cluster distance across number of clusters.\n",
    "# HINT: Use matplotlib's plot function to visualize this relationship.\n",
    "\n",
    "plt.plot(ks, scores, linestyle='-', marker='o')\n",
    "plt.xlabel('K')\n",
    "plt.ylabel('SSE')"
   ]
  },
  {
   "cell_type": "code",
   "execution_count": 61,
   "metadata": {},
   "outputs": [],
   "source": [
    "# Re-fit the k-means model with the selected number of clusters and obtain\n",
    "# cluster predictions for the general population demographics data.\n",
    "k_means = KMeans(n_clusters = 15)\n",
    "model_15 = k_means.fit(azdias_pca)\n",
    "azdias_prediction = model_15.predict(azdias_pca)"
   ]
  },
  {
   "cell_type": "markdown",
   "metadata": {},
   "source": [
    "### Discussion 3.1: Apply Clustering to General Population\n",
    "Based on Elbow Curve method, it seems like K=15 is the elbow. I decided to use 15 cluster considering additional clusters beyond that have little value."
   ]
  },
  {
   "cell_type": "code",
   "execution_count": 62,
   "metadata": {},
   "outputs": [],
   "source": [
    "#https://www.datanovia.com/en/lessons/determining-the-optimal-number-of-clusters-3-must-know-methods/\n",
    "#https://towardsdatascience.com/10-tips-for-choosing-the-optimal-number-of-clusters-277e93d72d92"
   ]
  },
  {
   "cell_type": "markdown",
   "metadata": {},
   "source": [
    "### Step 3.2: Apply All Steps to the Customer Data\n",
    "\n",
    "Now that you have clusters and cluster centers for the general population, it's time to see how the customer data maps on to those clusters. Take care to not confuse this for re-fitting all of the models to the customer data. Instead, you're going to use the fits from the general population to clean, transform, and cluster the customer data. In the last step of the project, you will interpret how the general population fits apply to the customer data.\n",
    "\n",
    "- Don't forget when loading in the customers data, that it is semicolon (`;`) delimited.\n",
    "- Apply the same feature wrangling, selection, and engineering steps to the customer demographics using the `clean_data()` function you created earlier. (You can assume that the customer demographics data has similar meaning behind missing data patterns as the general demographics data.)\n",
    "- Use the sklearn objects from the general demographics data, and apply their transformations to the customers data. That is, you should not be using a `.fit()` or `.fit_transform()` method to re-fit the old objects, nor should you be creating new sklearn objects! Carry the data through the feature scaling, PCA, and clustering steps, obtaining cluster assignments for all of the data in the customer demographics data."
   ]
  },
  {
   "cell_type": "code",
   "execution_count": 63,
   "metadata": {},
   "outputs": [],
   "source": [
    "# Load in the customer demographics data.\n",
    "customers = pd.read_csv('Udacity_CUSTOMERS_Subset.csv', sep=';')"
   ]
  },
  {
   "cell_type": "code",
   "execution_count": 64,
   "metadata": {},
   "outputs": [],
   "source": [
    "# Apply preprocessing, feature transformation, and clustering from the general\n",
    "# demographics onto the customer data, obtaining cluster predictions for the\n",
    "# customer demographics data.\n",
    "customers_binary = clean_data(customers)"
   ]
  },
  {
   "cell_type": "code",
   "execution_count": 65,
   "metadata": {},
   "outputs": [],
   "source": [
    "# Replace NaN\n",
    "customers_binary_imputed = pd.DataFrame(Filling_NA.fit_transform(customers_binary))\n",
    "customers_binary_imputed.columns = customers_binary.columns\n",
    "customers_binary_imputed.index = customers_binary.index"
   ]
  },
  {
   "cell_type": "code",
   "execution_count": 66,
   "metadata": {},
   "outputs": [],
   "source": [
    "# Apply scaler\n",
    "customers_binary_scaled = pd.DataFrame(scaler.fit_transform(customers_binary_imputed), columns=list(customers_binary_imputed))"
   ]
  },
  {
   "cell_type": "code",
   "execution_count": 67,
   "metadata": {},
   "outputs": [],
   "source": [
    "# PCA transformation\n",
    "customers_pca = pca_40.fit_transform(customers_binary_scaled)"
   ]
  },
  {
   "cell_type": "code",
   "execution_count": 68,
   "metadata": {},
   "outputs": [],
   "source": [
    "# Predict using Kmeans model_15\n",
    "customers_prediction = model_15.predict(customers_pca)"
   ]
  },
  {
   "cell_type": "markdown",
   "metadata": {},
   "source": [
    "### Step 3.3: Compare Customer Data to Demographics Data\n",
    "\n",
    "At this point, you have clustered data based on demographics of the general population of Germany, and seen how the customer data for a mail-order sales company maps onto those demographic clusters. In this final substep, you will compare the two cluster distributions to see where the strongest customer base for the company is.\n",
    "\n",
    "Consider the proportion of persons in each cluster for the general population, and the proportions for the customers. If we think the company's customer base to be universal, then the cluster assignment proportions should be fairly similar between the two. If there are only particular segments of the population that are interested in the company's products, then we should see a mismatch from one to the other. If there is a higher proportion of persons in a cluster for the customer data compared to the general population (e.g. 5% of persons are assigned to a cluster for the general population, but 15% of the customer data is closest to that cluster's centroid) then that suggests the people in that cluster to be a target audience for the company. On the other hand, the proportion of the data in a cluster being larger in the general population than the customer data (e.g. only 2% of customers closest to a population centroid that captures 6% of the data) suggests that group of persons to be outside of the target demographics.\n",
    "\n",
    "Take a look at the following points in this step:\n",
    "\n",
    "- Compute the proportion of data points in each cluster for the general population and the customer data. Visualizations will be useful here: both for the individual dataset proportions, but also to visualize the ratios in cluster representation between groups. Seaborn's [`countplot()`](https://seaborn.pydata.org/generated/seaborn.countplot.html) or [`barplot()`](https://seaborn.pydata.org/generated/seaborn.barplot.html) function could be handy.\n",
    "  - Recall the analysis you performed in step 1.1.3 of the project, where you separated out certain data points from the dataset if they had more than a specified threshold of missing values. If you found that this group was qualitatively different from the main bulk of the data, you should treat this as an additional data cluster in this analysis. Make sure that you account for the number of data points in this subset, for both the general population and customer datasets, when making your computations!\n",
    "- Which cluster or clusters are overrepresented in the customer dataset compared to the general population? Select at least one such cluster and infer what kind of people might be represented by that cluster. Use the principal component interpretations from step 2.3 or look at additional components to help you make this inference. Alternatively, you can use the `.inverse_transform()` method of the PCA and StandardScaler objects to transform centroids back to the original data space and interpret the retrieved values directly.\n",
    "- Perform a similar investigation for the underrepresented clusters. Which cluster or clusters are underrepresented in the customer dataset compared to the general population, and what kinds of people are typified by these clusters?"
   ]
  },
  {
   "cell_type": "code",
   "execution_count": 69,
   "metadata": {},
   "outputs": [
    {
     "data": {
      "text/plain": [
       "Text(0.5,1,'General Clusters')"
      ]
     },
     "execution_count": 69,
     "metadata": {},
     "output_type": "execute_result"
    },
    {
     "data": {
      "image/png": "[encoded data removed]",
      "text/plain": [
       "<matplotlib.figure.Figure at 0x7f28bad4b5c0>"
      ]
     },
     "metadata": {
      "needs_background": "light"
     },
     "output_type": "display_data"
    }
   ],
   "source": [
    "# Compare the proportion of data in each cluster for the customer data to the\n",
    "# proportion of data in each cluster for the general population.\n",
    "\n",
    "figure, axs = plt.subplots(nrows=1, ncols=2, figsize = (10,5))\n",
    "figure.subplots_adjust(hspace = 1, wspace=.3)\n",
    "\n",
    "sns.countplot(customers_prediction, ax=axs[0])\n",
    "axs[0].set_title('Customer Clusters')\n",
    "sns.countplot(azdias_prediction, ax=axs[1])\n",
    "axs[1].set_title('General Clusters')\n"
   ]
  },
  {
   "cell_type": "code",
   "execution_count": 73,
   "metadata": {},
   "outputs": [],
   "source": [
    "# What kinds of people are part of a cluster that is overrepresented in the\n",
    "# customer data compared to the general population?\n",
    "\n",
    "cluster_5 = scaler.inverse_transform(pca_40.inverse_transform(model_15.cluster_centers_[5]))"
   ]
  },
  {
   "cell_type": "code",
   "execution_count": 74,
   "metadata": {},
   "outputs": [],
   "source": [
    "overrepresented_c5 = pd.Series(data = cluster_5, index = customers_binary.columns)"
   ]
  },
  {
   "cell_type": "code",
   "execution_count": 75,
   "metadata": {},
   "outputs": [
    {
     "data": {
      "text/plain": [
       "AGER_TYP                    1.417753\n",
       "ALTERSKATEGORIE_GROB        4.028877\n",
       "ANREDE_KZ                   0.702986\n",
       "FINANZ_MINIMALIST           5.519738\n",
       "FINANZ_SPARER               0.476239\n",
       "FINANZ_VORSORGER            5.494002\n",
       "FINANZ_ANLEGER              0.351076\n",
       "FINANZ_UNAUFFAELLIGER       1.299068\n",
       "FINANZ_HAUSBAUER            2.167315\n",
       "GEBURTSJAHR              1932.662634\n",
       "GREEN_AVANTGARDE            0.878022\n",
       "HEALTH_TYP                  1.405082\n",
       "RETOURTYP_BK_S              4.384895\n",
       "SEMIO_SOZ                   5.932164\n",
       "SEMIO_FAM                   4.986174\n",
       "SEMIO_REL                   3.782936\n",
       "SEMIO_MAT                   4.122805\n",
       "SEMIO_VERT                  7.597237\n",
       "SEMIO_LUST                  6.676384\n",
       "SEMIO_ERL                   3.393029\n",
       "SEMIO_KULT                  5.428641\n",
       "SEMIO_RAT                   1.515616\n",
       "SEMIO_KRIT                  1.833403\n",
       "SEMIO_DOM                   1.966627\n",
       "SEMIO_KAEM                  0.938570\n",
       "SEMIO_PFLICHT               2.384108\n",
       "SEMIO_TRADV                 2.446588\n",
       "SOHO_KZ                     0.022875\n",
       "TITEL_KZ                    1.048435\n",
       "ALTER_HH                   11.109077\n",
       "ANZ_PERSONEN                2.633831\n",
       "ANZ_TITEL                   0.018444\n",
       "HH_EINKOMMEN_SCORE          1.853194\n",
       "KK_KUNDENTYP                3.167686\n",
       "W_KEIT_KIND_HH              4.791501\n",
       "WOHNDAUER_2008              9.212345\n",
       "ANZ_HAUSHALTE_AKTIV         3.894702\n",
       "ANZ_HH_TITEL                0.182024\n",
       "KONSUMNAEHE                 3.654931\n",
       "MIN_GEBAEUDEJAHR         1992.766870\n",
       "OST_WEST_KZ                -0.006010\n",
       "KBA05_ANTG1                 3.175215\n",
       "KBA05_ANTG2                 0.884679\n",
       "KBA05_ANTG3                 0.041843\n",
       "KBA05_ANTG4                -0.063827\n",
       "KBA05_BAUMAX                0.793001\n",
       "KBA05_GBZ                   4.236563\n",
       "BALLRAUM                    4.127036\n",
       "EWDICHTE                    3.726660\n",
       "INNENSTADT                  5.214723\n",
       "GEBAEUDETYP_RASTER          4.176951\n",
       "KKK                         1.964608\n",
       "MOBI_REGIO                  4.475051\n",
       "ONLINE_AFFINITAET           3.061314\n",
       "REGIOTYP                    2.994135\n",
       "KBA13_ANZAHL_PKW          737.155496\n",
       "PLZ8_ANTG1                  2.835238\n",
       "PLZ8_ANTG2                  2.546503\n",
       "PLZ8_ANTG3                  1.196937\n",
       "PLZ8_ANTG4                  0.417846\n",
       "PLZ8_HHZ                    3.680016\n",
       "PLZ8_GBZ                    3.879411\n",
       "ARBEIT                      2.670708\n",
       "ORTSGR_KLS9                 4.885908\n",
       "RELAT_AB                    2.812300\n",
       "DECADE                      1.320738\n",
       "MOVEMENT                    0.121107\n",
       "WEALTH                      1.775443\n",
       "LIFE_STAGE                  3.881231\n",
       "dtype: float64"
      ]
     },
     "execution_count": 75,
     "metadata": {},
     "output_type": "execute_result"
    }
   ],
   "source": [
    "overrepresented_c5"
   ]
  },
  {
   "cell_type": "code",
   "execution_count": 79,
   "metadata": {},
   "outputs": [],
   "source": [
    "# What kinds of people are part of a cluster that is underrepresented in the\n",
    "# customer data compared to the general population?\n",
    "\n",
    "cluster_11 = scaler.inverse_transform(pca_40.inverse_transform(model_15.cluster_centers_[11]))"
   ]
  },
  {
   "cell_type": "code",
   "execution_count": 80,
   "metadata": {},
   "outputs": [],
   "source": [
    "underrepresented_c11 = pd.Series(data = cluster_11, index = customers_binary.columns)"
   ]
  },
  {
   "cell_type": "code",
   "execution_count": 81,
   "metadata": {},
   "outputs": [
    {
     "data": {
      "text/plain": [
       "AGER_TYP                    2.008055\n",
       "ALTERSKATEGORIE_GROB        2.778726\n",
       "ANREDE_KZ                   1.812376\n",
       "FINANZ_MINIMALIST           2.906415\n",
       "FINANZ_SPARER               2.422424\n",
       "FINANZ_VORSORGER            3.658595\n",
       "FINANZ_ANLEGER              2.682791\n",
       "FINANZ_UNAUFFAELLIGER       2.703884\n",
       "FINANZ_HAUSBAUER            3.333421\n",
       "GEBURTSJAHR              1957.911113\n",
       "GREEN_AVANTGARDE            0.244374\n",
       "HEALTH_TYP                  2.248813\n",
       "RETOURTYP_BK_S              3.325100\n",
       "SEMIO_SOZ                   3.684648\n",
       "SEMIO_FAM                   3.126724\n",
       "SEMIO_REL                   3.305916\n",
       "SEMIO_MAT                   3.334976\n",
       "SEMIO_VERT                  3.386489\n",
       "SEMIO_LUST                  4.559243\n",
       "SEMIO_ERL                   5.532398\n",
       "SEMIO_KULT                  3.014436\n",
       "SEMIO_RAT                   4.121011\n",
       "SEMIO_KRIT                  5.559363\n",
       "SEMIO_DOM                   5.568910\n",
       "SEMIO_KAEM                  5.507154\n",
       "SEMIO_PFLICHT               4.255204\n",
       "SEMIO_TRADV                 3.244515\n",
       "SOHO_KZ                     0.005565\n",
       "TITEL_KZ                    1.021490\n",
       "ALTER_HH                   13.436142\n",
       "ANZ_PERSONEN                1.768709\n",
       "ANZ_TITEL                   0.030046\n",
       "HH_EINKOMMEN_SCORE          4.463386\n",
       "KK_KUNDENTYP                3.065610\n",
       "W_KEIT_KIND_HH              4.237815\n",
       "WOHNDAUER_2008              8.202183\n",
       "ANZ_HAUSHALTE_AKTIV        12.963806\n",
       "ANZ_HH_TITEL                0.238498\n",
       "KONSUMNAEHE                 2.405823\n",
       "MIN_GEBAEUDEJAHR         1993.574936\n",
       "OST_WEST_KZ                 0.105223\n",
       "KBA05_ANTG1                 1.180870\n",
       "KBA05_ANTG2                 1.195215\n",
       "KBA05_ANTG3                 0.812353\n",
       "KBA05_ANTG4                 0.398069\n",
       "KBA05_BAUMAX                2.089031\n",
       "KBA05_GBZ                   2.732746\n",
       "BALLRAUM                    4.265028\n",
       "EWDICHTE                    4.440437\n",
       "INNENSTADT                  4.560210\n",
       "GEBAEUDETYP_RASTER          3.483806\n",
       "KKK                         2.679121\n",
       "MOBI_REGIO                  2.651714\n",
       "ONLINE_AFFINITAET           3.220882\n",
       "REGIOTYP                    4.772373\n",
       "KBA13_ANZAHL_PKW          673.751404\n",
       "PLZ8_ANTG1                  1.858334\n",
       "PLZ8_ANTG2                  3.177254\n",
       "PLZ8_ANTG3                  2.016369\n",
       "PLZ8_ANTG4                  0.993513\n",
       "PLZ8_HHZ                    3.889337\n",
       "PLZ8_GBZ                    3.230851\n",
       "ARBEIT                      3.082801\n",
       "ORTSGR_KLS9                 5.902519\n",
       "RELAT_AB                    3.458134\n",
       "DECADE                      4.080058\n",
       "MOVEMENT                    0.729140\n",
       "WEALTH                      3.418161\n",
       "LIFE_STAGE                  2.899908\n",
       "dtype: float64"
      ]
     },
     "execution_count": 81,
     "metadata": {},
     "output_type": "execute_result"
    }
   ],
   "source": [
    "underrepresented_c11"
   ]
  },
  {
   "cell_type": "markdown",
   "metadata": {},
   "source": [
    "### Discussion 3.3: Compare Customer Data to Demographics Data\n",
    "\n",
    "Compare to general population, cluster 5 is overrepresented. Based on this cluster, the company is popular with people who have the following features:\n",
    "- Senior whose age is 60+ year old (ALTERSKATEGORIE_GROB:4.028877)\n",
    "- They are from prosperous households (WEALTH:1.775443) with financial typology mostly either low financial interest (FINANZ_MINIMALIST:5.519738) or be prepared (FINANZ_VORSORGER:5.494002)\n",
    "- Low movement pattern (MOBI_REGIO:4.475051)\n",
    "- Majority of personality typology will be either a dreamful (SEMIO_VERT:7.597237), sensual-minded (SEMIO_LUST: 6.676384), socially-minded (SEMIO_SOZ:5.932164) or cultural-minded (SEMIO_KULT:5.428641)\t\n",
    "\n",
    "\n",
    "\n",
    "Compare to general population, cluster 11 is underrepresented. Based on this cluster, the company is unpopular with people who have the following features:\n",
    "- Younger generation whose age is between 30-45 years old (ALTERSKATEGORIE_GROB: 2.778726)\n",
    "- They are from comfortable households (WEALTH: 3.418161) with financial typology mostly is be prepared (FINANZ_VORSORGER: 3.658595) or home ownership (FINANZ_HAUSBAUER: 3.333421) \n",
    "- High to middle movement pattern (MOBI_REGIO:2.651714)\n",
    "- Majority of personality typology will be either a dominant-minded (SEMIO_DOM:5.56891), critical-minded (SEMIO_KRIT:5.559363), even-oriented (SEMIO_ERL:5.532398) or combative attitude (SEMIO_KAEM:5.507154) \n"
   ]
  },
  {
   "cell_type": "markdown",
   "metadata": {},
   "source": [
    "> Congratulations on making it this far in the project! Before you finish, make sure to check through the entire notebook from top to bottom to make sure that your analysis follows a logical flow and all of your findings are documented in **Discussion** cells. Once you've checked over all of your work, you should export the notebook as an HTML document to submit for evaluation. You can do this from the menu, navigating to **File -> Download as -> HTML (.html)**. You will submit both that document and this notebook for your project submission."
   ]
  },
  {
   "cell_type": "code",
   "execution_count": null,
   "metadata": {},
   "outputs": [],
   "source": [
    "!!jupyter nbconvert *.ipynb"
   ]
  },
  {
   "cell_type": "code",
   "execution_count": null,
   "metadata": {},
   "outputs": [],
   "source": []
  }
 ],
 "metadata": {
  "kernelspec": {
   "display_name": "Python 3",
   "language": "python",
   "name": "python3"
  },
  "language_info": {
   "codemirror_mode": {
    "name": "ipython",
    "version": 3
   },
   "file_extension": ".py",
   "mimetype": "text/x-python",
   "name": "python",
   "nbconvert_exporter": "python",
   "pygments_lexer": "ipython3",
   "version": "3.6.3"
  }
 },
 "nbformat": 4,
 "nbformat_minor": 2
}
